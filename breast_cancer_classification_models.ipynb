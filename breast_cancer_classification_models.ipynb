{
 "cells": [
  {
   "cell_type": "markdown",
   "metadata": {},
   "source": [
    "# Data Retrieving - Breast Cancer Dataset\n",
    "## Dataset from: http://archive.ics.uci.edu/ml/datasets/Breast+Cancer+Coimbra"
   ]
  },
  {
   "cell_type": "code",
   "execution_count": 1,
   "metadata": {},
   "outputs": [],
   "source": [
    "import pandas as pd\n",
    "import numpy as np\n",
    "from scipy import stats\n",
    "import matplotlib.pyplot as plt\n",
    "import matplotlib as plot"
   ]
  },
  {
   "cell_type": "code",
   "execution_count": 2,
   "metadata": {},
   "outputs": [],
   "source": [
    "# Functions \n",
    "def plot_box_column(dataframe, columns):\n",
    "    fig = plt.figure(figsize=(40,40))\n",
    "    for i, heading in enumerate(columns):\n",
    "        ax = fig.add_subplot(4, 3, i+1)\n",
    "        dataframe[heading].plot(kind='box')\n",
    "        ax.set_title(heading)\n",
    "    plt.show()\n",
    "    \n",
    "def show_min_max_values(column_name):\n",
    "    print('> ' + column_name.name)\n",
    "    print('Min - Max: ' + str(column_name.min()) + ' - ' + str(column_name.max()))\n",
    "    \n",
    "def show_all_min_max_values(dataframe):\n",
    "    for column in dataframe:\n",
    "        show_min_max_values(dataframe[column])\n",
    "    \n",
    "def check_outside_values(column_name, start_value, end_value):\n",
    "    count = 0\n",
    "    for item in column_name:\n",
    "        if item < start_value or item > end_value:\n",
    "            count += 1\n",
    "    show_min_max_values(column_name)\n",
    "    print(str(count) + \" values outside of \" + str(start_value) + ' - ' + str(end_value))"
   ]
  },
  {
   "cell_type": "code",
   "execution_count": 3,
   "metadata": {},
   "outputs": [],
   "source": [
    "# Breast Cancer CSV Path (Local Directory)\n",
    "breast_cancer_csv = './dataR2.csv'\n",
    "\n",
    "# Read Breast Cancer CSV file\n",
    "breast_cancer = pd.read_csv(breast_cancer_csv, sep=',', decimal='.')"
   ]
  },
  {
   "cell_type": "code",
   "execution_count": 4,
   "metadata": {},
   "outputs": [
    {
     "data": {
      "text/html": [
       "<div>\n",
       "<style scoped>\n",
       "    .dataframe tbody tr th:only-of-type {\n",
       "        vertical-align: middle;\n",
       "    }\n",
       "\n",
       "    .dataframe tbody tr th {\n",
       "        vertical-align: top;\n",
       "    }\n",
       "\n",
       "    .dataframe thead th {\n",
       "        text-align: right;\n",
       "    }\n",
       "</style>\n",
       "<table border=\"1\" class=\"dataframe\">\n",
       "  <thead>\n",
       "    <tr style=\"text-align: right;\">\n",
       "      <th></th>\n",
       "      <th>Age</th>\n",
       "      <th>BMI</th>\n",
       "      <th>Glucose</th>\n",
       "      <th>Insulin</th>\n",
       "      <th>HOMA</th>\n",
       "      <th>Leptin</th>\n",
       "      <th>Adiponectin</th>\n",
       "      <th>Resistin</th>\n",
       "      <th>MCP.1</th>\n",
       "      <th>Classification</th>\n",
       "    </tr>\n",
       "  </thead>\n",
       "  <tbody>\n",
       "    <tr>\n",
       "      <th>0</th>\n",
       "      <td>48</td>\n",
       "      <td>23.500000</td>\n",
       "      <td>70</td>\n",
       "      <td>2.707</td>\n",
       "      <td>0.467409</td>\n",
       "      <td>8.8071</td>\n",
       "      <td>9.702400</td>\n",
       "      <td>7.99585</td>\n",
       "      <td>417.114</td>\n",
       "      <td>1</td>\n",
       "    </tr>\n",
       "    <tr>\n",
       "      <th>1</th>\n",
       "      <td>83</td>\n",
       "      <td>20.690495</td>\n",
       "      <td>92</td>\n",
       "      <td>3.115</td>\n",
       "      <td>0.706897</td>\n",
       "      <td>8.8438</td>\n",
       "      <td>5.429285</td>\n",
       "      <td>4.06405</td>\n",
       "      <td>468.786</td>\n",
       "      <td>1</td>\n",
       "    </tr>\n",
       "    <tr>\n",
       "      <th>2</th>\n",
       "      <td>82</td>\n",
       "      <td>23.124670</td>\n",
       "      <td>91</td>\n",
       "      <td>4.498</td>\n",
       "      <td>1.009651</td>\n",
       "      <td>17.9393</td>\n",
       "      <td>22.432040</td>\n",
       "      <td>9.27715</td>\n",
       "      <td>554.697</td>\n",
       "      <td>1</td>\n",
       "    </tr>\n",
       "    <tr>\n",
       "      <th>3</th>\n",
       "      <td>68</td>\n",
       "      <td>21.367521</td>\n",
       "      <td>77</td>\n",
       "      <td>3.226</td>\n",
       "      <td>0.612725</td>\n",
       "      <td>9.8827</td>\n",
       "      <td>7.169560</td>\n",
       "      <td>12.76600</td>\n",
       "      <td>928.220</td>\n",
       "      <td>1</td>\n",
       "    </tr>\n",
       "    <tr>\n",
       "      <th>4</th>\n",
       "      <td>86</td>\n",
       "      <td>21.111111</td>\n",
       "      <td>92</td>\n",
       "      <td>3.549</td>\n",
       "      <td>0.805386</td>\n",
       "      <td>6.6994</td>\n",
       "      <td>4.819240</td>\n",
       "      <td>10.57635</td>\n",
       "      <td>773.920</td>\n",
       "      <td>1</td>\n",
       "    </tr>\n",
       "  </tbody>\n",
       "</table>\n",
       "</div>"
      ],
      "text/plain": [
       "   Age        BMI  Glucose  Insulin      HOMA   Leptin  Adiponectin  Resistin  \\\n",
       "0   48  23.500000       70    2.707  0.467409   8.8071     9.702400   7.99585   \n",
       "1   83  20.690495       92    3.115  0.706897   8.8438     5.429285   4.06405   \n",
       "2   82  23.124670       91    4.498  1.009651  17.9393    22.432040   9.27715   \n",
       "3   68  21.367521       77    3.226  0.612725   9.8827     7.169560  12.76600   \n",
       "4   86  21.111111       92    3.549  0.805386   6.6994     4.819240  10.57635   \n",
       "\n",
       "     MCP.1  Classification  \n",
       "0  417.114               1  \n",
       "1  468.786               1  \n",
       "2  554.697               1  \n",
       "3  928.220               1  \n",
       "4  773.920               1  "
      ]
     },
     "execution_count": 4,
     "metadata": {},
     "output_type": "execute_result"
    }
   ],
   "source": [
    "breast_cancer.head()"
   ]
  },
  {
   "cell_type": "code",
   "execution_count": 5,
   "metadata": {},
   "outputs": [
    {
     "data": {
      "text/plain": [
       "Age                 int64\n",
       "BMI               float64\n",
       "Glucose             int64\n",
       "Insulin           float64\n",
       "HOMA              float64\n",
       "Leptin            float64\n",
       "Adiponectin       float64\n",
       "Resistin          float64\n",
       "MCP.1             float64\n",
       "Classification      int64\n",
       "dtype: object"
      ]
     },
     "execution_count": 5,
     "metadata": {},
     "output_type": "execute_result"
    }
   ],
   "source": [
    "# Check datatypes\n",
    "breast_cancer.dtypes"
   ]
  },
  {
   "cell_type": "code",
   "execution_count": 6,
   "metadata": {},
   "outputs": [
    {
     "data": {
      "text/html": [
       "<div>\n",
       "<style scoped>\n",
       "    .dataframe tbody tr th:only-of-type {\n",
       "        vertical-align: middle;\n",
       "    }\n",
       "\n",
       "    .dataframe tbody tr th {\n",
       "        vertical-align: top;\n",
       "    }\n",
       "\n",
       "    .dataframe thead th {\n",
       "        text-align: right;\n",
       "    }\n",
       "</style>\n",
       "<table border=\"1\" class=\"dataframe\">\n",
       "  <thead>\n",
       "    <tr style=\"text-align: right;\">\n",
       "      <th></th>\n",
       "      <th>Age</th>\n",
       "      <th>BMI</th>\n",
       "      <th>Glucose</th>\n",
       "      <th>Insulin</th>\n",
       "      <th>HOMA</th>\n",
       "      <th>Leptin</th>\n",
       "      <th>Adiponectin</th>\n",
       "      <th>Resistin</th>\n",
       "      <th>MCP.1</th>\n",
       "      <th>Classification</th>\n",
       "    </tr>\n",
       "  </thead>\n",
       "  <tbody>\n",
       "    <tr>\n",
       "      <th>count</th>\n",
       "      <td>116.000000</td>\n",
       "      <td>116.000000</td>\n",
       "      <td>116.000000</td>\n",
       "      <td>116.000000</td>\n",
       "      <td>116.000000</td>\n",
       "      <td>116.000000</td>\n",
       "      <td>116.000000</td>\n",
       "      <td>116.000000</td>\n",
       "      <td>116.000000</td>\n",
       "      <td>116.000000</td>\n",
       "    </tr>\n",
       "    <tr>\n",
       "      <th>mean</th>\n",
       "      <td>57.301724</td>\n",
       "      <td>27.582111</td>\n",
       "      <td>97.793103</td>\n",
       "      <td>10.012086</td>\n",
       "      <td>2.694988</td>\n",
       "      <td>26.615080</td>\n",
       "      <td>10.180874</td>\n",
       "      <td>14.725966</td>\n",
       "      <td>534.647000</td>\n",
       "      <td>1.551724</td>\n",
       "    </tr>\n",
       "    <tr>\n",
       "      <th>std</th>\n",
       "      <td>16.112766</td>\n",
       "      <td>5.020136</td>\n",
       "      <td>22.525162</td>\n",
       "      <td>10.067768</td>\n",
       "      <td>3.642043</td>\n",
       "      <td>19.183294</td>\n",
       "      <td>6.843341</td>\n",
       "      <td>12.390646</td>\n",
       "      <td>345.912663</td>\n",
       "      <td>0.499475</td>\n",
       "    </tr>\n",
       "    <tr>\n",
       "      <th>min</th>\n",
       "      <td>24.000000</td>\n",
       "      <td>18.370000</td>\n",
       "      <td>60.000000</td>\n",
       "      <td>2.432000</td>\n",
       "      <td>0.467409</td>\n",
       "      <td>4.311000</td>\n",
       "      <td>1.656020</td>\n",
       "      <td>3.210000</td>\n",
       "      <td>45.843000</td>\n",
       "      <td>1.000000</td>\n",
       "    </tr>\n",
       "    <tr>\n",
       "      <th>25%</th>\n",
       "      <td>45.000000</td>\n",
       "      <td>22.973205</td>\n",
       "      <td>85.750000</td>\n",
       "      <td>4.359250</td>\n",
       "      <td>0.917966</td>\n",
       "      <td>12.313675</td>\n",
       "      <td>5.474282</td>\n",
       "      <td>6.881763</td>\n",
       "      <td>269.978250</td>\n",
       "      <td>1.000000</td>\n",
       "    </tr>\n",
       "    <tr>\n",
       "      <th>50%</th>\n",
       "      <td>56.000000</td>\n",
       "      <td>27.662416</td>\n",
       "      <td>92.000000</td>\n",
       "      <td>5.924500</td>\n",
       "      <td>1.380939</td>\n",
       "      <td>20.271000</td>\n",
       "      <td>8.352692</td>\n",
       "      <td>10.827740</td>\n",
       "      <td>471.322500</td>\n",
       "      <td>2.000000</td>\n",
       "    </tr>\n",
       "    <tr>\n",
       "      <th>75%</th>\n",
       "      <td>71.000000</td>\n",
       "      <td>31.241442</td>\n",
       "      <td>102.000000</td>\n",
       "      <td>11.189250</td>\n",
       "      <td>2.857787</td>\n",
       "      <td>37.378300</td>\n",
       "      <td>11.815970</td>\n",
       "      <td>17.755207</td>\n",
       "      <td>700.085000</td>\n",
       "      <td>2.000000</td>\n",
       "    </tr>\n",
       "    <tr>\n",
       "      <th>max</th>\n",
       "      <td>89.000000</td>\n",
       "      <td>38.578759</td>\n",
       "      <td>201.000000</td>\n",
       "      <td>58.460000</td>\n",
       "      <td>25.050342</td>\n",
       "      <td>90.280000</td>\n",
       "      <td>38.040000</td>\n",
       "      <td>82.100000</td>\n",
       "      <td>1698.440000</td>\n",
       "      <td>2.000000</td>\n",
       "    </tr>\n",
       "  </tbody>\n",
       "</table>\n",
       "</div>"
      ],
      "text/plain": [
       "              Age         BMI     Glucose     Insulin        HOMA      Leptin  \\\n",
       "count  116.000000  116.000000  116.000000  116.000000  116.000000  116.000000   \n",
       "mean    57.301724   27.582111   97.793103   10.012086    2.694988   26.615080   \n",
       "std     16.112766    5.020136   22.525162   10.067768    3.642043   19.183294   \n",
       "min     24.000000   18.370000   60.000000    2.432000    0.467409    4.311000   \n",
       "25%     45.000000   22.973205   85.750000    4.359250    0.917966   12.313675   \n",
       "50%     56.000000   27.662416   92.000000    5.924500    1.380939   20.271000   \n",
       "75%     71.000000   31.241442  102.000000   11.189250    2.857787   37.378300   \n",
       "max     89.000000   38.578759  201.000000   58.460000   25.050342   90.280000   \n",
       "\n",
       "       Adiponectin    Resistin        MCP.1  Classification  \n",
       "count   116.000000  116.000000   116.000000      116.000000  \n",
       "mean     10.180874   14.725966   534.647000        1.551724  \n",
       "std       6.843341   12.390646   345.912663        0.499475  \n",
       "min       1.656020    3.210000    45.843000        1.000000  \n",
       "25%       5.474282    6.881763   269.978250        1.000000  \n",
       "50%       8.352692   10.827740   471.322500        2.000000  \n",
       "75%      11.815970   17.755207   700.085000        2.000000  \n",
       "max      38.040000   82.100000  1698.440000        2.000000  "
      ]
     },
     "execution_count": 6,
     "metadata": {},
     "output_type": "execute_result"
    }
   ],
   "source": [
    "# Summary of dataset\n",
    "breast_cancer.describe()"
   ]
  },
  {
   "cell_type": "code",
   "execution_count": 7,
   "metadata": {},
   "outputs": [
    {
     "data": {
      "text/plain": [
       "Age               False\n",
       "BMI               False\n",
       "Glucose           False\n",
       "Insulin           False\n",
       "HOMA              False\n",
       "Leptin            False\n",
       "Adiponectin       False\n",
       "Resistin          False\n",
       "MCP.1             False\n",
       "Classification    False\n",
       "dtype: bool"
      ]
     },
     "execution_count": 7,
     "metadata": {},
     "output_type": "execute_result"
    }
   ],
   "source": [
    "# Check for null\n",
    "breast_cancer.isnull().any()"
   ]
  },
  {
   "cell_type": "code",
   "execution_count": 8,
   "metadata": {},
   "outputs": [
    {
     "data": {
      "text/plain": [
       "False"
      ]
     },
     "execution_count": 8,
     "metadata": {},
     "output_type": "execute_result"
    }
   ],
   "source": [
    "# Check for duplicate entries\n",
    "breast_cancer.duplicated().any()"
   ]
  },
  {
   "cell_type": "code",
   "execution_count": 9,
   "metadata": {},
   "outputs": [
    {
     "name": "stdout",
     "output_type": "stream",
     "text": [
      "> Age\n",
      "Min - Max: 24 - 89\n",
      "> BMI\n",
      "Min - Max: 18.37 - 38.57875854\n",
      "> Glucose\n",
      "Min - Max: 60 - 201\n",
      "> Insulin\n",
      "Min - Max: 2.432 - 58.46\n",
      "> HOMA\n",
      "Min - Max: 0.46740866700000006 - 25.05034187\n",
      "> Leptin\n",
      "Min - Max: 4.311 - 90.28\n",
      "> Adiponectin\n",
      "Min - Max: 1.65602 - 38.04\n",
      "> Resistin\n",
      "Min - Max: 3.21 - 82.1\n",
      "> MCP.1\n",
      "Min - Max: 45.843 - 1698.44\n",
      "> Classification\n",
      "Min - Max: 1 - 2\n"
     ]
    }
   ],
   "source": [
    "# Show the range of all attributes before pre-processing\n",
    "show_all_min_max_values(breast_cancer)"
   ]
  },
  {
   "cell_type": "code",
   "execution_count": 10,
   "metadata": {},
   "outputs": [
    {
     "name": "stdout",
     "output_type": "stream",
     "text": [
      "> Age\n",
      "Min - Max: 24 - 89\n",
      "0 values outside of 0 - 122\n",
      "> BMI\n",
      "Min - Max: 18.37 - 38.57875854\n",
      "40 values outside of 18.5 - 30\n"
     ]
    }
   ],
   "source": [
    "# Check for impossible values\n",
    "\n",
    "# Age (Longest living person lived to be 122)\n",
    "check_outside_values(breast_cancer['Age'], 0, 122)\n",
    "\n",
    "# BMI (Under 18.5 is underweight, over 30 is obese)\n",
    "check_outside_values(breast_cancer['BMI'], 18.5, 30)"
   ]
  },
  {
   "cell_type": "code",
   "execution_count": 11,
   "metadata": {
    "scrolled": true
   },
   "outputs": [
    {
     "data": {
      "image/png": "[encoded data removed]",
      "text/plain": [
       "<Figure size 2880x2880 with 10 Axes>"
      ]
     },
     "metadata": {
      "needs_background": "light"
     },
     "output_type": "display_data"
    }
   ],
   "source": [
    "# Check for outliers for every column using boxplot\n",
    "plot_box_column(breast_cancer, breast_cancer.columns)"
   ]
  },
  {
   "cell_type": "code",
   "execution_count": 12,
   "metadata": {},
   "outputs": [],
   "source": [
    "# Create new dataframe without outliers\n",
    "breast_cancer = breast_cancer[(stats.zscore(breast_cancer) < 3).all(axis=1)]"
   ]
  },
  {
   "cell_type": "code",
   "execution_count": 13,
   "metadata": {},
   "outputs": [
    {
     "name": "stdout",
     "output_type": "stream",
     "text": [
      "> Age\n",
      "Min - Max: 25 - 89\n",
      "> BMI\n",
      "Min - Max: 18.37 - 38.57875854\n",
      "> Glucose\n",
      "Min - Max: 60 - 152\n",
      "> Insulin\n",
      "Min - Max: 2.432 - 36.94\n",
      "> HOMA\n",
      "Min - Max: 0.46740866700000006 - 9.736007333\n",
      "> Leptin\n",
      "Min - Max: 4.311 - 74.7069\n",
      "> Adiponectin\n",
      "Min - Max: 1.65602 - 26.72\n",
      "> Resistin\n",
      "Min - Max: 3.21 - 49.24184\n",
      "> MCP.1\n",
      "Min - Max: 45.843 - 1256.083\n",
      "> Classification\n",
      "Min - Max: 1 - 2\n"
     ]
    }
   ],
   "source": [
    "# Show the range of all attributes after pre-processing\n",
    "show_all_min_max_values(breast_cancer)"
   ]
  },
  {
   "cell_type": "markdown",
   "metadata": {},
   "source": [
    "#  Data Exploration - Breast Cancer Dataset\n",
    "## Dataset from: http://archive.ics.uci.edu/ml/datasets/Breast+Cancer+Coimbra"
   ]
  },
  {
   "cell_type": "code",
   "execution_count": 14,
   "metadata": {},
   "outputs": [
    {
     "data": {
      "image/png": "[encoded data removed]",
      "text/plain": [
       "<Figure size 432x288 with 1 Axes>"
      ]
     },
     "metadata": {
      "needs_background": "light"
     },
     "output_type": "display_data"
    },
    {
     "data": {
      "image/png": "[encoded data removed]",
      "text/plain": [
       "<Figure size 432x288 with 1 Axes>"
      ]
     },
     "metadata": {
      "needs_background": "light"
     },
     "output_type": "display_data"
    },
    {
     "data": {
      "image/png": "[encoded data removed]",
      "text/plain": [
       "<Figure size 432x288 with 1 Axes>"
      ]
     },
     "metadata": {
      "needs_background": "light"
     },
     "output_type": "display_data"
    },
    {
     "data": {
      "image/png": "[encoded data removed]",
      "text/plain": [
       "<Figure size 432x288 with 1 Axes>"
      ]
     },
     "metadata": {
      "needs_background": "light"
     },
     "output_type": "display_data"
    },
    {
     "data": {
      "image/png": "[encoded data removed]",
      "text/plain": [
       "<Figure size 432x288 with 1 Axes>"
      ]
     },
     "metadata": {
      "needs_background": "light"
     },
     "output_type": "display_data"
    },
    {
     "data": {
      "image/png": "[encoded data removed]",
      "text/plain": [
       "<Figure size 432x288 with 1 Axes>"
      ]
     },
     "metadata": {
      "needs_background": "light"
     },
     "output_type": "display_data"
    },
    {
     "data": {
      "image/png": "[encoded data removed]",
      "text/plain": [
       "<Figure size 432x288 with 1 Axes>"
      ]
     },
     "metadata": {
      "needs_background": "light"
     },
     "output_type": "display_data"
    },
    {
     "data": {
      "image/png": "[encoded data removed]",
      "text/plain": [
       "<Figure size 432x288 with 1 Axes>"
      ]
     },
     "metadata": {
      "needs_background": "light"
     },
     "output_type": "display_data"
    },
    {
     "data": {
      "image/png": "[encoded data removed]",
      "text/plain": [
       "<Figure size 432x288 with 1 Axes>"
      ]
     },
     "metadata": {
      "needs_background": "light"
     },
     "output_type": "display_data"
    },
    {
     "data": {
      "image/png": "[encoded data removed]",
      "text/plain": [
       "<Figure size 432x288 with 1 Axes>"
      ]
     },
     "metadata": {},
     "output_type": "display_data"
    }
   ],
   "source": [
    "# import matplotlib.pyplot as plt\n",
    "# import matplotlib as plot\n",
    "\n",
    "plt.hist(breast_cancer['Age'], edgecolor='black', linewidth=1, bins=16)\n",
    "plt.title('Histogram for Age')\n",
    "plt.ylabel('Frequency')\n",
    "plt.xlabel('Age')\n",
    "plt.show()\n",
    "\n",
    "breast_cancer['BMI'].plot(kind='box')\n",
    "plt.title('Boxplot for Distribution of BMI')\n",
    "plt.ylabel('BMI (kg/m^2)')\n",
    "plt.show()\n",
    "\n",
    "breast_cancer['Glucose'].plot(kind='box')\n",
    "plt.title('Boxplot for Distribution of Glucose Levels')\n",
    "plt.ylabel('Glucose Level (mg/dL)')\n",
    "plt.show()\n",
    "\n",
    "breast_cancer['Insulin'].plot(kind='density')\n",
    "plt.title('Density Graph for Insulin')\n",
    "plt.xlabel('Insulin level (microU/mL)')\n",
    "plt.show()\n",
    "\n",
    "breast_cancer['HOMA'].plot(kind='density')\n",
    "plt.title('Density Graph for HOMA')\n",
    "plt.xlabel('HOMA')\n",
    "plt.show()\n",
    "\n",
    "plt.hist(breast_cancer['Leptin'], edgecolor='black', linewidth=1, bins=16)\n",
    "plt.title('Histogram for Leptin')\n",
    "plt.ylabel('Frequency')\n",
    "plt.xlabel('Leptin Level (ng/mL)')\n",
    "plt.show()\n",
    "\n",
    "plt.hist(breast_cancer['Adiponectin'], edgecolor='black', linewidth=1, bins=16)\n",
    "plt.title('Histogram for Adiponectin')\n",
    "plt.ylabel('Frequency')\n",
    "plt.xlabel('Adiponectin Level (micrograms/mL)')\n",
    "plt.show()\n",
    "\n",
    "breast_cancer['Resistin'].plot(kind='density')\n",
    "plt.title('Density Graph for Resistin')\n",
    "plt.xlabel('Resistin Level (ng/mL)')\n",
    "plt.show()\n",
    "\n",
    "breast_cancer['MCP.1'].plot(kind='box')\n",
    "plt.title('Box Plot for Distribution of MCP-1 Levels')\n",
    "plt.ylabel('MCP-1 Level (pg/dL)')\n",
    "plt.show()\n",
    "\n",
    "breast_cancer['Classification'].value_counts().plot(kind='pie', autopct='%.2f')\n",
    "plt.title('Pie Graph for Values of Classification')\n",
    "plt.show()"
   ]
  },
  {
   "cell_type": "code",
   "execution_count": 15,
   "metadata": {},
   "outputs": [
    {
     "data": {
      "image/png": "[encoded data removed]",
      "text/plain": [
       "<Figure size 432x288 with 1 Axes>"
      ]
     },
     "metadata": {
      "needs_background": "light"
     },
     "output_type": "display_data"
    },
    {
     "data": {
      "image/png": "[encoded data removed]",
      "text/plain": [
       "<Figure size 432x288 with 1 Axes>"
      ]
     },
     "metadata": {
      "needs_background": "light"
     },
     "output_type": "display_data"
    },
    {
     "data": {
      "image/png": "[encoded data removed]",
      "text/plain": [
       "<Figure size 432x288 with 2 Axes>"
      ]
     },
     "metadata": {
      "needs_background": "light"
     },
     "output_type": "display_data"
    },
    {
     "data": {
      "image/png": "[encoded data removed]",
      "text/plain": [
       "<Figure size 432x288 with 1 Axes>"
      ]
     },
     "metadata": {
      "needs_background": "light"
     },
     "output_type": "display_data"
    },
    {
     "data": {
      "image/png": "[encoded data removed]",
      "text/plain": [
       "<Figure size 432x288 with 1 Axes>"
      ]
     },
     "metadata": {
      "needs_background": "light"
     },
     "output_type": "display_data"
    },
    {
     "data": {
      "image/png": "[encoded data removed]",
      "text/plain": [
       "<Figure size 432x288 with 2 Axes>"
      ]
     },
     "metadata": {
      "needs_background": "light"
     },
     "output_type": "display_data"
    },
    {
     "data": {
      "image/png": "[encoded data removed]",
      "text/plain": [
       "<Figure size 432x288 with 1 Axes>"
      ]
     },
     "metadata": {
      "needs_background": "light"
     },
     "output_type": "display_data"
    },
    {
     "data": {
      "image/png": "[encoded data removed]",
      "text/plain": [
       "<Figure size 432x288 with 1 Axes>"
      ]
     },
     "metadata": {
      "needs_background": "light"
     },
     "output_type": "display_data"
    },
    {
     "data": {
      "image/png": "[encoded data removed]",
      "text/plain": [
       "<Figure size 432x288 with 2 Axes>"
      ]
     },
     "metadata": {
      "needs_background": "light"
     },
     "output_type": "display_data"
    },
    {
     "data": {
      "image/png": "[encoded data removed]",
      "text/plain": [
       "<Figure size 432x288 with 1 Axes>"
      ]
     },
     "metadata": {
      "needs_background": "light"
     },
     "output_type": "display_data"
    }
   ],
   "source": [
    "plt.scatter(breast_cancer['HOMA'], breast_cancer['Insulin'], edgecolors='black', linewidths=0.5)\n",
    "plt.title('Scatter Plot for Insulin vs HOMA')\n",
    "plt.ylabel('Insulin')\n",
    "plt.xlabel('HOMA')\n",
    "plt.show()\n",
    "\n",
    "plt.scatter(breast_cancer['Age'], breast_cancer['BMI'], edgecolors='black', linewidths=0.5)\n",
    "plt.title('Scatter Plot for BMI vs Age')\n",
    "plt.ylabel('BMI')\n",
    "plt.xlabel('Age')\n",
    "plt.show()\n",
    "\n",
    "plt.hexbin(breast_cancer['Adiponectin'], breast_cancer['Leptin'], gridsize = 10, marginals = True, edgecolors = 'red',\n",
    "          linewidths = 0.2)\n",
    "plt.title('Point Densities for Leptin vs Adiponectin')\n",
    "plt.ylabel('Leptin')\n",
    "plt.xlabel('Adiponectin')\n",
    "plt.colorbar()\n",
    "plt.show()\n",
    "\n",
    "breast_cancer.dropna().boxplot(column='MCP.1', by='Classification')\n",
    "plt.ylabel('MCP.1 Level')\n",
    "plt.show()\n",
    "\n",
    "plt.scatter(breast_cancer['Leptin'], breast_cancer['BMI'])\n",
    "plt.title('Scatter Plot for BMI vs Leptin')\n",
    "plt.ylabel('BMI')\n",
    "plt.xlabel('Leptin Level')\n",
    "plt.show()\n",
    "\n",
    "plt.hexbin(breast_cancer['Resistin'], breast_cancer['Age'], gridsize = 10, marginals = True, edgecolors = 'red',\n",
    "          linewidths = 0.2)\n",
    "plt.title('Point Densities for Age vs Resistin')\n",
    "plt.ylabel('Age')\n",
    "plt.xlabel('Resistin Level')\n",
    "plt.colorbar()\n",
    "plt.show()\n",
    "\n",
    "breast_cancer.dropna().boxplot(column='Insulin', by='Classification')\n",
    "plt.ylabel('Insulin Level')\n",
    "plt.show()\n",
    "\n",
    "plt.scatter(breast_cancer['Glucose'], breast_cancer['Adiponectin'])\n",
    "plt.title('Scatter Plot for Adiponectin vs Glucose')\n",
    "plt.ylabel('Adiponectin')\n",
    "plt.xlabel('Glucose')\n",
    "plt.show()\n",
    "\n",
    "plt.hexbin(breast_cancer['Resistin'], breast_cancer['MCP.1'], gridsize = 10, marginals = True, edgecolors = 'red',\n",
    "          linewidths = 0.2)\n",
    "plt.title('Point Densities for MCP.1 vs Resitin')\n",
    "plt.ylabel('MCP.1 Level')\n",
    "plt.xlabel('Resistin Level')\n",
    "plt.colorbar()\n",
    "plt.show()\n",
    "\n",
    "breast_cancer.dropna().boxplot(column='Glucose', by='Classification')\n",
    "plt.ylabel('Glucose Level')\n",
    "plt.show()"
   ]
  },
  {
   "cell_type": "markdown",
   "metadata": {},
   "source": [
    "# Data Modelling (Classification) - Breast Cancer Dataset\n",
    "## Dataset from: http://archive.ics.uci.edu/ml/datasets/Breast+Cancer+Coimbra"
   ]
  },
  {
   "cell_type": "code",
   "execution_count": 16,
   "metadata": {},
   "outputs": [
    {
     "data": {
      "text/html": [
       "<div>\n",
       "<style scoped>\n",
       "    .dataframe tbody tr th:only-of-type {\n",
       "        vertical-align: middle;\n",
       "    }\n",
       "\n",
       "    .dataframe tbody tr th {\n",
       "        vertical-align: top;\n",
       "    }\n",
       "\n",
       "    .dataframe thead th {\n",
       "        text-align: right;\n",
       "    }\n",
       "</style>\n",
       "<table border=\"1\" class=\"dataframe\">\n",
       "  <thead>\n",
       "    <tr style=\"text-align: right;\">\n",
       "      <th></th>\n",
       "      <th>Age</th>\n",
       "      <th>BMI</th>\n",
       "      <th>Glucose</th>\n",
       "      <th>Insulin</th>\n",
       "      <th>HOMA</th>\n",
       "      <th>Leptin</th>\n",
       "      <th>Adiponectin</th>\n",
       "      <th>Resistin</th>\n",
       "      <th>MCP.1</th>\n",
       "      <th>Classification</th>\n",
       "    </tr>\n",
       "  </thead>\n",
       "  <tbody>\n",
       "    <tr>\n",
       "      <th>count</th>\n",
       "      <td>49.000000</td>\n",
       "      <td>49.000000</td>\n",
       "      <td>49.000000</td>\n",
       "      <td>49.000000</td>\n",
       "      <td>49.000000</td>\n",
       "      <td>49.000000</td>\n",
       "      <td>49.000000</td>\n",
       "      <td>49.000000</td>\n",
       "      <td>49.000000</td>\n",
       "      <td>49.0</td>\n",
       "    </tr>\n",
       "    <tr>\n",
       "      <th>mean</th>\n",
       "      <td>58.775510</td>\n",
       "      <td>28.504261</td>\n",
       "      <td>88.061224</td>\n",
       "      <td>7.059878</td>\n",
       "      <td>1.579553</td>\n",
       "      <td>25.840008</td>\n",
       "      <td>9.309585</td>\n",
       "      <td>10.442863</td>\n",
       "      <td>508.133816</td>\n",
       "      <td>1.0</td>\n",
       "    </tr>\n",
       "    <tr>\n",
       "      <th>std</th>\n",
       "      <td>18.765289</td>\n",
       "      <td>5.248228</td>\n",
       "      <td>10.322726</td>\n",
       "      <td>4.968344</td>\n",
       "      <td>1.247151</td>\n",
       "      <td>17.962668</td>\n",
       "      <td>5.546543</td>\n",
       "      <td>5.693230</td>\n",
       "      <td>295.239661</td>\n",
       "      <td>0.0</td>\n",
       "    </tr>\n",
       "    <tr>\n",
       "      <th>min</th>\n",
       "      <td>25.000000</td>\n",
       "      <td>20.690495</td>\n",
       "      <td>60.000000</td>\n",
       "      <td>2.707000</td>\n",
       "      <td>0.467409</td>\n",
       "      <td>4.311000</td>\n",
       "      <td>2.194280</td>\n",
       "      <td>3.291750</td>\n",
       "      <td>45.843000</td>\n",
       "      <td>1.0</td>\n",
       "    </tr>\n",
       "    <tr>\n",
       "      <th>25%</th>\n",
       "      <td>43.000000</td>\n",
       "      <td>23.340000</td>\n",
       "      <td>82.000000</td>\n",
       "      <td>4.345000</td>\n",
       "      <td>0.890787</td>\n",
       "      <td>12.331000</td>\n",
       "      <td>5.429285</td>\n",
       "      <td>6.701880</td>\n",
       "      <td>270.142000</td>\n",
       "      <td>1.0</td>\n",
       "    </tr>\n",
       "    <tr>\n",
       "      <th>50%</th>\n",
       "      <td>66.000000</td>\n",
       "      <td>27.700000</td>\n",
       "      <td>87.000000</td>\n",
       "      <td>5.430000</td>\n",
       "      <td>1.133929</td>\n",
       "      <td>21.211700</td>\n",
       "      <td>8.125550</td>\n",
       "      <td>9.153900</td>\n",
       "      <td>473.859000</td>\n",
       "      <td>1.0</td>\n",
       "    </tr>\n",
       "    <tr>\n",
       "      <th>75%</th>\n",
       "      <td>75.000000</td>\n",
       "      <td>32.270788</td>\n",
       "      <td>93.000000</td>\n",
       "      <td>7.553000</td>\n",
       "      <td>1.840410</td>\n",
       "      <td>35.891000</td>\n",
       "      <td>10.358725</td>\n",
       "      <td>12.766000</td>\n",
       "      <td>667.928000</td>\n",
       "      <td>1.0</td>\n",
       "    </tr>\n",
       "    <tr>\n",
       "      <th>max</th>\n",
       "      <td>89.000000</td>\n",
       "      <td>38.578759</td>\n",
       "      <td>118.000000</td>\n",
       "      <td>26.211000</td>\n",
       "      <td>7.111918</td>\n",
       "      <td>74.706900</td>\n",
       "      <td>26.720000</td>\n",
       "      <td>24.603300</td>\n",
       "      <td>1256.083000</td>\n",
       "      <td>1.0</td>\n",
       "    </tr>\n",
       "  </tbody>\n",
       "</table>\n",
       "</div>"
      ],
      "text/plain": [
       "             Age        BMI     Glucose    Insulin       HOMA     Leptin  \\\n",
       "count  49.000000  49.000000   49.000000  49.000000  49.000000  49.000000   \n",
       "mean   58.775510  28.504261   88.061224   7.059878   1.579553  25.840008   \n",
       "std    18.765289   5.248228   10.322726   4.968344   1.247151  17.962668   \n",
       "min    25.000000  20.690495   60.000000   2.707000   0.467409   4.311000   \n",
       "25%    43.000000  23.340000   82.000000   4.345000   0.890787  12.331000   \n",
       "50%    66.000000  27.700000   87.000000   5.430000   1.133929  21.211700   \n",
       "75%    75.000000  32.270788   93.000000   7.553000   1.840410  35.891000   \n",
       "max    89.000000  38.578759  118.000000  26.211000   7.111918  74.706900   \n",
       "\n",
       "       Adiponectin   Resistin        MCP.1  Classification  \n",
       "count    49.000000  49.000000    49.000000            49.0  \n",
       "mean      9.309585  10.442863   508.133816             1.0  \n",
       "std       5.546543   5.693230   295.239661             0.0  \n",
       "min       2.194280   3.291750    45.843000             1.0  \n",
       "25%       5.429285   6.701880   270.142000             1.0  \n",
       "50%       8.125550   9.153900   473.859000             1.0  \n",
       "75%      10.358725  12.766000   667.928000             1.0  \n",
       "max      26.720000  24.603300  1256.083000             1.0  "
      ]
     },
     "execution_count": 16,
     "metadata": {},
     "output_type": "execute_result"
    }
   ],
   "source": [
    "# Classification = 1 donates patients without breast cancer. \n",
    "breast_cancer[breast_cancer['Classification'] == 1].describe()"
   ]
  },
  {
   "cell_type": "code",
   "execution_count": 17,
   "metadata": {},
   "outputs": [
    {
     "data": {
      "text/html": [
       "<div>\n",
       "<style scoped>\n",
       "    .dataframe tbody tr th:only-of-type {\n",
       "        vertical-align: middle;\n",
       "    }\n",
       "\n",
       "    .dataframe tbody tr th {\n",
       "        vertical-align: top;\n",
       "    }\n",
       "\n",
       "    .dataframe thead th {\n",
       "        text-align: right;\n",
       "    }\n",
       "</style>\n",
       "<table border=\"1\" class=\"dataframe\">\n",
       "  <thead>\n",
       "    <tr style=\"text-align: right;\">\n",
       "      <th></th>\n",
       "      <th>Age</th>\n",
       "      <th>BMI</th>\n",
       "      <th>Glucose</th>\n",
       "      <th>Insulin</th>\n",
       "      <th>HOMA</th>\n",
       "      <th>Leptin</th>\n",
       "      <th>Adiponectin</th>\n",
       "      <th>Resistin</th>\n",
       "      <th>MCP.1</th>\n",
       "      <th>Classification</th>\n",
       "    </tr>\n",
       "  </thead>\n",
       "  <tbody>\n",
       "    <tr>\n",
       "      <th>count</th>\n",
       "      <td>53.000000</td>\n",
       "      <td>53.000000</td>\n",
       "      <td>53.000000</td>\n",
       "      <td>53.000000</td>\n",
       "      <td>53.000000</td>\n",
       "      <td>53.000000</td>\n",
       "      <td>53.000000</td>\n",
       "      <td>53.000000</td>\n",
       "      <td>53.000000</td>\n",
       "      <td>53.0</td>\n",
       "    </tr>\n",
       "    <tr>\n",
       "      <th>mean</th>\n",
       "      <td>55.792453</td>\n",
       "      <td>26.602509</td>\n",
       "      <td>100.264151</td>\n",
       "      <td>10.168000</td>\n",
       "      <td>2.570616</td>\n",
       "      <td>23.726353</td>\n",
       "      <td>9.890944</td>\n",
       "      <td>15.966703</td>\n",
       "      <td>481.797226</td>\n",
       "      <td>2.0</td>\n",
       "    </tr>\n",
       "    <tr>\n",
       "      <th>std</th>\n",
       "      <td>12.240159</td>\n",
       "      <td>4.804887</td>\n",
       "      <td>16.357956</td>\n",
       "      <td>8.296139</td>\n",
       "      <td>2.192833</td>\n",
       "      <td>15.151024</td>\n",
       "      <td>5.712961</td>\n",
       "      <td>9.972972</td>\n",
       "      <td>232.463475</td>\n",
       "      <td>0.0</td>\n",
       "    </tr>\n",
       "    <tr>\n",
       "      <th>min</th>\n",
       "      <td>34.000000</td>\n",
       "      <td>18.370000</td>\n",
       "      <td>70.000000</td>\n",
       "      <td>2.432000</td>\n",
       "      <td>0.507936</td>\n",
       "      <td>6.333900</td>\n",
       "      <td>1.656020</td>\n",
       "      <td>3.210000</td>\n",
       "      <td>90.600000</td>\n",
       "      <td>2.0</td>\n",
       "    </tr>\n",
       "    <tr>\n",
       "      <th>25%</th>\n",
       "      <td>45.000000</td>\n",
       "      <td>22.222222</td>\n",
       "      <td>92.000000</td>\n",
       "      <td>4.420000</td>\n",
       "      <td>1.046286</td>\n",
       "      <td>11.240600</td>\n",
       "      <td>5.478170</td>\n",
       "      <td>8.890000</td>\n",
       "      <td>301.210000</td>\n",
       "      <td>2.0</td>\n",
       "    </tr>\n",
       "    <tr>\n",
       "      <th>50%</th>\n",
       "      <td>52.000000</td>\n",
       "      <td>26.840000</td>\n",
       "      <td>98.000000</td>\n",
       "      <td>6.683000</td>\n",
       "      <td>1.658774</td>\n",
       "      <td>17.997300</td>\n",
       "      <td>8.574655</td>\n",
       "      <td>13.912450</td>\n",
       "      <td>426.175000</td>\n",
       "      <td>2.0</td>\n",
       "    </tr>\n",
       "    <tr>\n",
       "      <th>75%</th>\n",
       "      <td>66.000000</td>\n",
       "      <td>30.801249</td>\n",
       "      <td>104.000000</td>\n",
       "      <td>12.548000</td>\n",
       "      <td>2.940415</td>\n",
       "      <td>33.161200</td>\n",
       "      <td>12.100000</td>\n",
       "      <td>20.768010</td>\n",
       "      <td>656.393000</td>\n",
       "      <td>2.0</td>\n",
       "    </tr>\n",
       "    <tr>\n",
       "      <th>max</th>\n",
       "      <td>82.000000</td>\n",
       "      <td>37.109375</td>\n",
       "      <td>152.000000</td>\n",
       "      <td>36.940000</td>\n",
       "      <td>9.736007</td>\n",
       "      <td>61.480000</td>\n",
       "      <td>22.540000</td>\n",
       "      <td>49.241840</td>\n",
       "      <td>994.316000</td>\n",
       "      <td>2.0</td>\n",
       "    </tr>\n",
       "  </tbody>\n",
       "</table>\n",
       "</div>"
      ],
      "text/plain": [
       "             Age        BMI     Glucose    Insulin       HOMA     Leptin  \\\n",
       "count  53.000000  53.000000   53.000000  53.000000  53.000000  53.000000   \n",
       "mean   55.792453  26.602509  100.264151  10.168000   2.570616  23.726353   \n",
       "std    12.240159   4.804887   16.357956   8.296139   2.192833  15.151024   \n",
       "min    34.000000  18.370000   70.000000   2.432000   0.507936   6.333900   \n",
       "25%    45.000000  22.222222   92.000000   4.420000   1.046286  11.240600   \n",
       "50%    52.000000  26.840000   98.000000   6.683000   1.658774  17.997300   \n",
       "75%    66.000000  30.801249  104.000000  12.548000   2.940415  33.161200   \n",
       "max    82.000000  37.109375  152.000000  36.940000   9.736007  61.480000   \n",
       "\n",
       "       Adiponectin   Resistin       MCP.1  Classification  \n",
       "count    53.000000  53.000000   53.000000            53.0  \n",
       "mean      9.890944  15.966703  481.797226             2.0  \n",
       "std       5.712961   9.972972  232.463475             0.0  \n",
       "min       1.656020   3.210000   90.600000             2.0  \n",
       "25%       5.478170   8.890000  301.210000             2.0  \n",
       "50%       8.574655  13.912450  426.175000             2.0  \n",
       "75%      12.100000  20.768010  656.393000             2.0  \n",
       "max      22.540000  49.241840  994.316000             2.0  "
      ]
     },
     "execution_count": 17,
     "metadata": {},
     "output_type": "execute_result"
    }
   ],
   "source": [
    "# Classification = 2 donates patients with breast cancer. \n",
    "breast_cancer[breast_cancer['Classification'] == 2].describe()"
   ]
  },
  {
   "cell_type": "markdown",
   "metadata": {},
   "source": [
    "# K-Nearest Neighbours (KNN) Classifier"
   ]
  },
  {
   "cell_type": "code",
   "execution_count": 18,
   "metadata": {},
   "outputs": [],
   "source": [
    "# Packages KNN & Training\n",
    "from sklearn.neighbors import KNeighborsClassifier\n",
    "from sklearn.model_selection import train_test_split\n",
    "\n",
    "# Packages for Predictions, Evaluation & Validation\n",
    "from sklearn.model_selection import cross_val_score\n",
    "from sklearn.metrics import confusion_matrix\n",
    "from sklearn.metrics import classification_report\n",
    "from sklearn.metrics import accuracy_score\n",
    "from sklearn import metrics\n",
    "from sklearn.model_selection import KFold\n",
    "\n",
    "# Packages for KNN Parameter Tuning\n",
    "from sklearn.ensemble import RandomForestRegressor\n",
    "from sklearn.model_selection import RandomizedSearchCV\n",
    "\n",
    "# Package for Pre-processing \n",
    "from sklearn.preprocessing import StandardScaler\n",
    "\n",
    "# Package for Time\n",
    "from time import time"
   ]
  },
  {
   "cell_type": "code",
   "execution_count": 19,
   "metadata": {},
   "outputs": [],
   "source": [
    "# Functions\n",
    "\n",
    "# Plot Classification Error rate and K-values\n",
    "def plot_classification_vs_k(neighbours, classification_error_rate):\n",
    "    plt.plot(neighbours, classification_error_rate)\n",
    "    plt.xlabel('K-Value')\n",
    "    plt.ylabel('Classification Error')\n",
    "    plt.show()\n",
    "\n",
    "# Find the Optimal K-value for KNN\n",
    "def find_optimal_k(X_train, y_train, rangeList=None):\n",
    "    \n",
    "    errorList = []\n",
    "    if rangeList == None: rangeList = list(range(1, 30)) \n",
    "    neighbours = filter(lambda x: x % 2 != 0, rangeList)\n",
    "    \n",
    "    # Perform 10-folds (cv=10) and get cross-validation score for each k-value\n",
    "    for k in neighbours:  \n",
    "        classifier = KNeighborsClassifier(n_neighbors = k)\n",
    "        c_scores = cross_val_score(classifier, X_train, y_train, cv=10)\n",
    "        errorList.append(c_scores.mean())\n",
    "    \n",
    "    # Calculate classification error & determine the best k-value\n",
    "    classification_error_rate = [1 - error for error in errorList]\n",
    "    optimal_k = neighbours[classification_error_rate.index(min(classification_error_rate))]\n",
    "    return neighbours, classification_error_rate, optimal_k\n",
    "\n",
    "def evaluate(model, X_test, y_test):\n",
    "    predictions = model.predict(X_test)\n",
    "    accuracy = model.score(X_test, y_test)\n",
    "    return predictions, accuracy"
   ]
  },
  {
   "cell_type": "code",
   "execution_count": 20,
   "metadata": {},
   "outputs": [],
   "source": [
    "# Breast Cancer Feature Data\n",
    "X = breast_cancer.iloc[:, 0:8].values  \n",
    "\n",
    "# Breast Cancer Target\n",
    "y = breast_cancer.iloc[:, 9].values"
   ]
  },
  {
   "cell_type": "markdown",
   "metadata": {},
   "source": [
    "### KNN - (1/3) 50% for training and 50% for testing;"
   ]
  },
  {
   "cell_type": "code",
   "execution_count": 21,
   "metadata": {},
   "outputs": [],
   "source": [
    "X_train, X_test, y_train, y_test = train_test_split(X, y, test_size=0.50)  "
   ]
  },
  {
   "cell_type": "code",
   "execution_count": 22,
   "metadata": {},
   "outputs": [],
   "source": [
    "# Scale features for consistency\n",
    "feature_scaler = StandardScaler()  \n",
    "X_train = feature_scaler.fit_transform(X_train)  \n",
    "X_test = feature_scaler.transform(X_test)  "
   ]
  },
  {
   "cell_type": "code",
   "execution_count": 23,
   "metadata": {},
   "outputs": [
    {
     "data": {
      "text/plain": [
       "array([[-7.62737894e-01, -1.30549814e+00, -1.37428959e+00,\n",
       "        -5.15772770e-01, -6.03470786e-01, -1.15538049e+00,\n",
       "        -1.90996614e-01,  1.79231583e+00],\n",
       "       [ 6.53019965e-01,  7.08304015e-01, -7.94444551e-01,\n",
       "        -5.64078203e-01, -5.96874796e-01, -5.69803363e-01,\n",
       "        -9.07504615e-01, -1.12566711e+00],\n",
       "       [-1.55984526e-01,  5.62146909e-01, -2.14599512e-01,\n",
       "        -3.91249266e-01, -4.07019679e-01, -8.38938806e-01,\n",
       "         7.86165243e-02, -3.11711857e-01],\n",
       "       [ 1.32719037e+00, -9.24093727e-02,  1.23501308e+00,\n",
       "         2.24375475e+00,  2.50498429e+00, -1.85955132e-01,\n",
       "        -7.86857033e-01, -5.12102298e-01],\n",
       "       [-7.62737894e-01,  1.82988176e+00, -7.21963921e-01,\n",
       "        -2.35371840e-01, -3.30400206e-01,  1.07219448e+00,\n",
       "        -8.44337567e-01, -4.87271688e-01],\n",
       "       [-2.11107871e+00, -9.12743092e-01, -7.94444551e-01,\n",
       "        -5.75676605e-01, -6.05986103e-01, -2.77747481e-01,\n",
       "         2.59407701e+00, -9.07678340e-01],\n",
       "       [ 5.85602924e-01,  6.45809075e-01,  2.92764897e-01,\n",
       "         2.40162647e-01,  2.27056217e-01,  1.35154597e+00,\n",
       "        -1.00802742e+00,  9.00216042e-01],\n",
       "       [ 6.53019965e-01,  2.36755875e-02, -2.14599512e-01,\n",
       "        -3.26884507e-01, -3.51523981e-01,  2.61073118e-02,\n",
       "        -2.96632953e-01, -7.23073435e-01],\n",
       "       [ 1.19235629e+00,  2.07503424e-01, -3.59560772e-01,\n",
       "        -7.13073061e-01, -6.91853638e-01,  4.59998961e-01,\n",
       "        -2.96603176e-01,  6.51030086e-01],\n",
       "       [-6.95320853e-01, -1.30549721e+00, -3.59560772e-01,\n",
       "        -6.61071434e-01, -6.48013868e-01, -8.01682725e-01,\n",
       "         1.67008613e+00,  8.54045251e-02],\n",
       "       [ 7.87854047e-01, -1.20150030e+00, -1.15684770e+00,\n",
       "        -6.85797698e-01, -7.12188629e-01, -1.00816712e+00,\n",
       "        -3.83707363e-01, -8.24248140e-03],\n",
       "       [-4.93069730e-01, -9.13815390e-01, -6.96382522e-02,\n",
       "        -6.85797698e-01, -6.53103111e-01, -1.21905452e+00,\n",
       "         7.91166885e-01, -2.97014938e-01],\n",
       "       [ 1.12493925e+00,  1.84415379e+00,  2.97454820e+00,\n",
       "        -3.78631224e-01, -9.33450507e-02,  1.17077449e+00,\n",
       "        -1.07559877e+00, -7.01000340e-01],\n",
       "       [ 1.25977333e+00, -8.85656601e-01, -7.21963921e-01,\n",
       "        -4.65810422e-01, -5.13632470e-01, -5.07435715e-01,\n",
       "         4.12049098e-01, -6.77535514e-01],\n",
       "       [-7.62737894e-01, -8.58474172e-01,  1.66989686e+00,\n",
       "        -4.72183171e-01, -3.21179006e-01, -4.47279931e-01,\n",
       "        -9.02523727e-01, -8.93135927e-01],\n",
       "       [ 1.73169262e+00,  7.04220144e-01,  5.10206786e-01,\n",
       "         1.20703604e+00,  1.19175704e+00,  4.96079990e-01,\n",
       "         1.13314908e-01,  8.38693261e-01],\n",
       "       [ 1.73169262e+00, -8.61536009e-01, -1.42118882e-01,\n",
       "        -5.23674978e-01, -5.15705775e-01, -4.51288934e-01,\n",
       "         2.37066612e+00, -4.19729079e-01],\n",
       "       [-1.36949126e+00,  1.27640450e+00, -9.39405810e-01,\n",
       "        -2.57039184e-01, -3.71768616e-01, -9.80643244e-01,\n",
       "        -7.63345797e-01,  3.40382679e-01],\n",
       "       [-7.62737894e-01, -1.40778106e-01, -6.96382522e-02,\n",
       "        -6.72542381e-01, -6.41420320e-01,  2.08825560e+00,\n",
       "         5.06074193e-01, -2.21248141e-01],\n",
       "       [ 1.05752221e+00,  3.01566796e-01, -7.21963921e-01,\n",
       "         2.98537023e-01,  9.41351683e-02,  1.61729125e-01,\n",
       "        -1.17499185e+00,  2.28075857e-01],\n",
       "       [ 5.85602924e-01,  8.65291549e-01,  2.92764897e-01,\n",
       "        -3.66650457e-01, -3.36835020e-01,  2.55827667e+00,\n",
       "         2.39014934e+00, -2.95552441e-01],\n",
       "       [ 2.48517719e-01,  7.06914880e-01,  2.75710631e+00,\n",
       "         2.74325077e+00,  3.80393772e+00,  9.24469629e-01,\n",
       "        -1.60854118e-01, -1.57552844e-01],\n",
       "       [-7.62737894e-01, -1.41577792e+00, -6.96382522e-02,\n",
       "        -6.58522335e-01, -6.29063522e-01, -1.16249301e+00,\n",
       "         1.33080824e+00, -5.89231340e-01],\n",
       "       [-4.93069730e-01, -1.20150030e+00, -1.08436707e+00,\n",
       "        -7.60486309e-01, -7.64060318e-01, -1.25346282e+00,\n",
       "        -9.76255311e-01,  1.19201257e+00],\n",
       "       [ 1.32719037e+00,  3.17449397e-01, -7.21963921e-01,\n",
       "        -4.11769516e-01, -4.70662072e-01,  2.82959999e-01,\n",
       "        -3.47541782e-01, -5.65200386e-01],\n",
       "       [-1.50432534e+00, -1.18167325e+00, -1.08436707e+00,\n",
       "        -6.54826140e-01, -6.85106240e-01, -6.84177459e-01,\n",
       "         6.88345830e-01, -6.97739207e-01],\n",
       "       [-6.95320853e-01, -1.03850180e+00, -5.04522031e-01,\n",
       "         3.61121910e+00,  2.86351458e+00, -9.88999942e-01,\n",
       "         8.37814889e-02, -8.43988940e-01],\n",
       "       [-1.84141055e+00,  9.08008448e-01, -6.49483291e-01,\n",
       "        -3.56454060e-01, -4.19584051e-01,  1.46199401e+00,\n",
       "        -5.56942117e-01,  1.38788814e+00],\n",
       "       [ 6.53019965e-01,  7.48537336e-01, -2.14599512e-01,\n",
       "         8.13537565e-02,  4.61604665e-04,  1.48568860e+00,\n",
       "         1.91206256e-01,  1.24383215e+00],\n",
       "       [ 8.55271087e-01, -1.17318773e+00,  1.37997434e+00,\n",
       "        -2.45185872e-01, -1.01560124e-01,  5.60687150e-01,\n",
       "        -9.30799291e-01,  3.37657008e-01],\n",
       "       [-8.30154935e-01,  5.99747877e-02,  4.37726157e-01,\n",
       "         7.66379227e-02,  9.75845707e-02, -8.15112885e-01,\n",
       "        -6.88947387e-01,  1.20268880e+00],\n",
       "       [ 1.81100678e-01, -9.17990258e-01,  3.65245527e-01,\n",
       "        -2.22371433e-01, -1.94382631e-01, -6.61111867e-01,\n",
       "        -9.14181893e-01, -5.46193818e-01],\n",
       "       [ 1.12493925e+00, -1.07913153e+00,  2.92764897e-01,\n",
       "        -6.69993282e-01, -6.18721419e-01, -1.38229698e+00,\n",
       "         1.91831574e-01, -7.72698092e-01],\n",
       "       [ 8.55271087e-01,  3.52582975e-01, -2.87080142e-01,\n",
       "         2.67310555e-01,  1.47724842e-01,  1.43796764e+00,\n",
       "        -1.82172681e-01, -9.79623773e-01],\n",
       "       [-8.30154935e-01, -1.31904045e+00, -5.04522031e-01,\n",
       "        -1.34300050e-01, -2.23476481e-01, -7.17355416e-01,\n",
       "         1.98951267e+00, -6.12820007e-01],\n",
       "       [ 7.87854047e-01,  1.54438857e+00,  2.75710631e+00,\n",
       "        -5.82094338e-02,  2.88135674e-01, -4.56079002e-01,\n",
       "         4.69980800e-01, -1.01972451e+00],\n",
       "       [-9.64989017e-01, -1.20297202e+00,  2.84237764e-03,\n",
       "        -7.14729976e-01, -6.74941186e-01, -3.72263187e-01,\n",
       "        -1.50299508e-01,  5.35493976e-01],\n",
       "       [ 4.62665967e-02,  1.40472825e+00,  1.47803637e-01,\n",
       "         5.02337517e-01,  4.40043700e-01,  6.00860127e-01,\n",
       "        -1.25078076e+00, -3.39875546e-01],\n",
       "       [-1.50432534e+00,  8.50783806e-01, -4.32041401e-01,\n",
       "        -5.19596419e-01, -5.34275160e-01,  2.95968523e-01,\n",
       "        -2.98310394e-01, -8.50367315e-01],\n",
       "       [-3.58235649e-01, -9.06393248e-01,  7.27648676e-01,\n",
       "        -7.47740812e-01, -6.70895922e-01, -1.13717408e+00,\n",
       "         9.74942715e-03, -1.51081293e-01],\n",
       "       [-8.97571976e-01,  1.32424768e+00, -2.87080142e-01,\n",
       "         1.85922311e+00,  1.50503117e+00,  4.66185268e-01,\n",
       "        -1.79527938e-01, -7.22476642e-01],\n",
       "       [ 1.39460741e+00, -3.24579293e-01, -5.77002661e-01,\n",
       "        -5.13223671e-01, -5.40148302e-01, -7.41547677e-01,\n",
       "         8.25651416e-02, -1.25242268e-01],\n",
       "       [-6.95320853e-01,  1.08391822e+00, -6.96382522e-02,\n",
       "        -3.64101358e-01, -3.69570766e-01, -3.99399992e-01,\n",
       "        -2.44986916e-02, -4.65390841e-01],\n",
       "       [-1.43690830e+00,  5.22225010e-01, -6.49483291e-01,\n",
       "        -5.39224484e-01, -5.66664135e-01,  1.01919270e+00,\n",
       "        -4.46776056e-02,  4.24734571e-01],\n",
       "       [-4.25652690e-01,  2.12844268e+00,  9.45090565e-01,\n",
       "        -2.42636773e-01, -1.47932304e-01,  1.53253173e+00,\n",
       "        -8.35220376e-01, -1.24076988e-01],\n",
       "       [ 1.81100678e-01,  2.11854354e-01, -1.15684770e+00,\n",
       "        -6.90640987e-01, -7.15761355e-01, -5.14693393e-01,\n",
       "         1.28938746e+00,  2.22376433e+00],\n",
       "       [-2.90818608e-01,  6.23689474e-01, -4.32041401e-01,\n",
       "         2.75370208e+00,  2.19390800e+00,  3.32167057e-01,\n",
       "        -5.46311710e-01,  1.34573637e+00],\n",
       "       [-3.58235649e-01,  2.15044370e-02, -1.15684770e+00,\n",
       "        -6.05628523e-01, -6.53050606e-01, -3.02492708e-01,\n",
       "        -1.10150931e+00, -2.90223761e-01],\n",
       "       [ 1.25977333e+00, -5.37143859e-02, -5.77002661e-01,\n",
       "        -4.34583955e-01, -4.76111517e-01, -9.73102171e-01,\n",
       "        -5.32281305e-02, -6.20285820e-01],\n",
       "       [ 9.90105169e-01,  6.53730770e-02,  8.00129306e-01,\n",
       "         1.22271300e+00,  1.29566648e+00,  2.00667239e+00,\n",
       "        -1.37871921e+00,  4.29383967e+00],\n",
       "       [-8.30154935e-01, -1.55121037e+00,  1.52493560e+00,\n",
       "         9.28292021e-01,  1.19634811e+00, -7.87167368e-01,\n",
       "         1.99853602e+00, -9.69008873e-01]])"
      ]
     },
     "execution_count": 23,
     "metadata": {},
     "output_type": "execute_result"
    }
   ],
   "source": [
    "X_train"
   ]
  },
  {
   "cell_type": "code",
   "execution_count": 24,
   "metadata": {},
   "outputs": [
    {
     "data": {
      "text/plain": [
       "(51L, 8L)"
      ]
     },
     "execution_count": 24,
     "metadata": {},
     "output_type": "execute_result"
    }
   ],
   "source": [
    "X_train.shape"
   ]
  },
  {
   "cell_type": "code",
   "execution_count": 25,
   "metadata": {},
   "outputs": [
    {
     "data": {
      "text/plain": [
       "array([2, 1, 1, 1, 1, 1, 2, 1, 2, 2, 1, 1, 2, 1, 2, 2, 1, 1, 2, 2, 2, 2,\n",
       "       2, 2, 1, 1, 2, 1, 1, 2, 2, 2, 1, 1, 1, 2, 2, 2, 1, 2, 1, 1, 2, 1,\n",
       "       1, 2, 2, 1, 1, 2, 2], dtype=int64)"
      ]
     },
     "execution_count": 25,
     "metadata": {},
     "output_type": "execute_result"
    }
   ],
   "source": [
    "y_train"
   ]
  },
  {
   "cell_type": "code",
   "execution_count": 26,
   "metadata": {},
   "outputs": [
    {
     "data": {
      "text/plain": [
       "array([[ 7.87854047e-01, -1.25658417e+00,  6.55168046e-01,\n",
       "        -3.06746622e-01, -2.43316527e-01, -1.02083696e+00,\n",
       "        -1.30134129e-01,  1.06922107e-01],\n",
       "       [ 3.83351801e-01, -1.42712855e-01,  5.10206786e-01,\n",
       "        -5.19596419e-01, -4.62368853e-01, -8.30713437e-01,\n",
       "         2.18802633e+00, -6.50561874e-01],\n",
       "       [ 1.25977333e+00, -3.63274280e-01,  7.53230075e-02,\n",
       "        -6.72587365e-02, -8.82142934e-02,  2.86558750e+00,\n",
       "        -1.00240949e+00, -9.83533595e-01],\n",
       "       [ 5.18185883e-01,  1.34505575e+00,  1.47803637e-01,\n",
       "        -5.32724281e-01, -5.01972879e-01, -2.25098210e-01,\n",
       "        -6.91753648e-01, -7.23465007e-01],\n",
       "       [-1.09982310e+00,  1.13037207e-02,  7.27648676e-01,\n",
       "        -7.86996943e-01, -7.09631798e-01, -7.01291755e-01,\n",
       "        -4.53311667e-01,  1.55422362e+00],\n",
       "       [-3.58235649e-01, -1.78144554e+00,  8.72609936e-01,\n",
       "        -3.28413967e-01, -2.42400757e-01, -1.02632514e+00,\n",
       "         6.25182392e-01, -1.13530897e+00],\n",
       "       [-1.23465718e+00, -8.19875124e-01, -1.30180896e+00,\n",
       "        -3.60022799e-01, -4.85995735e-01, -6.36484145e-01,\n",
       "         1.56180595e+00, -4.11136907e-01],\n",
       "       [ 1.13683638e-01,  3.05088545e-01,  3.33695135e+00,\n",
       "         1.01649086e+00,  1.79884945e+00, -1.09203458e-01,\n",
       "         1.74495015e-01,  1.34231886e-01],\n",
       "       [-4.93069730e-01, -1.28100183e+00,  7.53230075e-02,\n",
       "         4.71365960e-01,  3.96831538e-01, -9.14308066e-01,\n",
       "        -1.59456402e-01,  1.21267152e+00],\n",
       "       [-8.97571976e-01, -1.96402150e-01,  5.82687416e-01,\n",
       "         2.48319765e-01,  2.86188135e-01, -1.01388341e+00,\n",
       "        -5.18924945e-01,  3.84980591e-01],\n",
       "       [-2.23401567e-01,  1.78239489e+00,  5.82687416e-01,\n",
       "         1.99886877e-01,  2.39325101e-01,  1.87718525e-01,\n",
       "         1.93717725e+00, -3.03444029e-01],\n",
       "       [-4.93069730e-01,  4.25673506e-01, -1.66421211e+00,\n",
       "        -2.68555116e-02, -2.97872034e-01,  1.85730246e+00,\n",
       "         2.59148460e-01,  9.35541250e-01],\n",
       "       [ 1.39460741e+00,  1.54979217e+00, -1.22932833e+00,\n",
       "        -6.02314694e-01, -6.55344917e-01, -1.85381430e-01,\n",
       "        -2.11182746e-01,  5.21971773e-01],\n",
       "       [ 1.32719037e+00, -7.30618793e-02,  7.53230075e-02,\n",
       "         6.96323979e-01,  5.99412204e-01,  7.89545935e-01,\n",
       "         9.18185853e-03, -5.21343158e-01],\n",
       "       [-1.55984526e-01, -6.49859025e-01, -5.04522031e-01,\n",
       "        -6.21560394e-01, -6.23813104e-01, -1.09078715e+00,\n",
       "        -1.00890449e+00, -2.93836365e-01],\n",
       "       [ 5.18185883e-01, -1.03613711e+00,  3.65245527e-01,\n",
       "        -3.70474106e-01, -3.33428354e-01, -8.48650271e-01,\n",
       "        -8.14224849e-01,  1.26973653e-01],\n",
       "       [-5.60486771e-01,  9.44986072e-01,  4.37726157e-01,\n",
       "         2.55805870e+00,  2.45103074e+00,  1.49354072e+00,\n",
       "         2.21509638e+00, -3.15925972e-01],\n",
       "       [ 3.15934760e-01,  8.63155464e-01, -5.77002661e-01,\n",
       "         1.20703604e+00,  8.60669343e-01,  4.35779053e-01,\n",
       "        -2.73497088e-01,  1.00020063e-01],\n",
       "       [ 2.20361191e+00, -9.43699081e-01, -1.15684770e+00,\n",
       "        -4.99203624e-01, -5.74544646e-01, -1.20990984e+00,\n",
       "        -6.68790129e-01,  1.18196796e-02],\n",
       "       [ 1.93394374e+00, -1.89146840e-01,  2.20284267e-01,\n",
       "        -5.28263357e-01, -4.92464738e-01, -1.14866886e+00,\n",
       "        -2.46166268e-01, -3.80058839e-01],\n",
       "       [ 1.46202446e+00, -4.40664253e-01, -2.38901841e+00,\n",
       "        -6.49855397e-01, -7.58492432e-01, -1.23278881e+00,\n",
       "         2.29471570e-01, -9.63842955e-01],\n",
       "       [ 2.00136078e+00, -1.25110925e+00, -6.96382522e-02,\n",
       "        -6.44629743e-01, -6.16819058e-01, -1.22819919e+00,\n",
       "        -8.07862486e-01, -2.66497101e-01],\n",
       "       [-8.85674851e-02,  8.50783806e-01, -6.96382522e-02,\n",
       "         1.02324597e+00,  8.53190550e-01,  8.81642415e-01,\n",
       "         3.10891047e-01, -6.68826578e-01],\n",
       "       [ 7.20437006e-01,  3.92587257e-01, -1.01188644e+00,\n",
       "        -3.55306965e-01, -4.54186748e-01, -1.77294303e-01,\n",
       "        -1.28158106e+00, -1.01766050e+00],\n",
       "       [-1.50432534e+00, -6.45278653e-01, -6.96382522e-02,\n",
       "         1.66867793e+00,  1.42205259e+00, -5.34510311e-01,\n",
       "         2.26088897e+00, -9.08806572e-02],\n",
       "       [-7.62737894e-01,  3.49633771e-01, -2.14599512e-01,\n",
       "        -4.96272160e-01, -4.97571075e-01, -4.28821033e-02,\n",
       "        -4.78509368e-01,  3.20848904e-01],\n",
       "       [-4.93069730e-01,  9.44986072e-01,  2.97454820e+00,\n",
       "         2.07500437e+00,  3.05645889e+00,  1.23885842e+00,\n",
       "         2.70373505e-01, -8.33609927e-01],\n",
       "       [-1.63915943e+00,  1.72870003e+00, -4.32041401e-01,\n",
       "         6.90715960e-01,  4.74479116e-01,  1.72141108e+00,\n",
       "        -7.57194580e-01,  5.03186938e-01],\n",
       "       [ 6.53019965e-01,  1.67058818e+00,  5.82687416e-01,\n",
       "         8.82790597e-01,  9.00093878e-01,  3.47252984e+00,\n",
       "        -3.16936389e-01,  1.11861643e+00],\n",
       "       [ 8.55271087e-01,  1.67706926e-01,  1.09005183e+00,\n",
       "         2.56559354e-02,  1.46025172e-01, -6.71839406e-01,\n",
       "        -7.23262279e-01,  4.30398210e-01],\n",
       "       [ 3.83351801e-01, -9.52163609e-01, -6.96382522e-02,\n",
       "        -6.53169226e-01, -6.24345472e-01, -1.00940439e+00,\n",
       "         3.50193143e-01, -2.52446512e-01],\n",
       "       [-5.60486771e-01, -7.88919134e-01, -1.66421211e+00,\n",
       "        -7.51946826e-01, -7.84121799e-01, -1.08251340e+00,\n",
       "         7.33865916e-02, -5.70849872e-01],\n",
       "       [ 2.48517719e-01, -2.37652538e-01,  7.27648676e-01,\n",
       "        -4.42103798e-01, -3.69309467e-01, -1.16464389e-02,\n",
       "        -1.28158106e+00,  8.74858225e-01],\n",
       "       [-7.62737894e-01, -1.21380004e+00,  6.55168046e-01,\n",
       "         6.68538796e-01,  7.09700288e-01, -1.16265890e+00,\n",
       "         2.12244915e+00,  1.20280910e+00],\n",
       "       [ 1.05752221e+00, -7.65702142e-01,  8.72609936e-01,\n",
       "        -5.33616466e-01, -4.48815448e-01, -1.85816891e-01,\n",
       "         1.54556393e+00, -9.45420206e-01],\n",
       "       [ 1.79910966e+00, -1.33248802e+00, -6.96382522e-02,\n",
       "        -6.99945199e-01, -6.65572243e-01, -1.07997667e+00,\n",
       "        -6.97769515e-01, -1.03457947e+00],\n",
       "       [-1.90882759e+00,  1.60162129e+00, -4.32041401e-01,\n",
       "        -3.91361726e-03, -1.04471053e-01,  3.04420933e+00,\n",
       "        -8.12381379e-01,  1.01522966e+00],\n",
       "       [ 9.90105169e-01,  5.26710415e-01,  6.55168046e-01,\n",
       "        -3.39929898e-02,  2.32093462e-02,  2.21419360e+00,\n",
       "        -2.10379668e-01, -1.00688048e+00],\n",
       "       [ 9.90105169e-01, -3.99995033e-01,  1.37997434e+00,\n",
       "         2.27926970e-01,  4.06074716e-01, -3.73458976e-01,\n",
       "        -6.87516284e-01,  3.52754532e+00],\n",
       "       [ 6.53019965e-01, -1.96402150e-01, -2.87080142e-01,\n",
       "        -2.65451212e-01, -3.06521792e-01, -6.60786999e-01,\n",
       "        -1.56246797e-01,  2.45715462e-01],\n",
       "       [-8.97571976e-01,  7.10511602e-01,  7.27648676e-01,\n",
       "        -5.45342323e-01, -4.71179788e-01,  9.07766804e-02,\n",
       "         6.17776027e-01,  3.04496838e+00],\n",
       "       [ 8.55271087e-01,  9.52355269e-01,  2.84237764e-03,\n",
       "        -4.04886948e-01, -3.98887636e-01, -6.44433031e-01,\n",
       "         4.49761281e-01, -1.23595779e-01],\n",
       "       [-1.43690830e+00,  1.48455859e+00, -2.14599512e-01,\n",
       "        -2.28106907e-01, -2.66357315e-01,  1.80689270e+00,\n",
       "        -4.20281701e-01,  1.08521370e+00],\n",
       "       [ 1.25977333e+00,  5.61535903e-01,  4.27919954e+00,\n",
       "        -2.03508098e-01,  2.85534885e-01,  1.80140451e+00,\n",
       "         1.37921579e-01, -1.30431775e-01],\n",
       "       [-1.23465718e+00, -9.82464280e-01,  1.47803637e-01,\n",
       "        -4.26426837e-01, -4.05230873e-01, -1.10802586e+00,\n",
       "        -8.16402183e-01,  3.42056295e-01],\n",
       "       [-1.84141055e+00, -8.83721852e-01, -7.94444551e-01,\n",
       "        -3.75189940e-01, -4.48490655e-01,  7.68740591e-01,\n",
       "         3.14450126e+00, -9.73726606e-01],\n",
       "       [-3.58235649e-01, -1.63389129e+00,  2.84237764e-03,\n",
       "        -5.40753944e-01, -5.19937856e-01, -9.25298264e-01,\n",
       "        -6.29492545e-01, -8.56897838e-01],\n",
       "       [-1.36949126e+00,  1.93290390e-01, -5.04522031e-01,\n",
       "        -5.43175588e-01, -5.59232962e-01, -6.45829270e-01,\n",
       "        -1.25560194e-01, -4.34265595e-01],\n",
       "       [ 1.66427558e+00,  7.86038060e-01,  5.10206786e-01,\n",
       "         1.35394663e-01,  1.65117157e-01,  9.91074378e-01,\n",
       "         2.41965298e-01,  1.97229735e+00],\n",
       "       [-1.03240606e+00, -1.75068965e-01,  2.92764897e-01,\n",
       "         1.71124789e+00,  1.59408681e+00,  1.39883839e+00,\n",
       "         7.57801250e-01,  1.76875075e+00],\n",
       "       [ 1.32719037e+00, -7.30876654e-01,  1.81485812e+00,\n",
       "        -2.72333781e-01, -8.32886688e-02, -1.39328718e+00,\n",
       "         7.13849422e-01, -9.11900711e-01]])"
      ]
     },
     "execution_count": 26,
     "metadata": {},
     "output_type": "execute_result"
    }
   ],
   "source": [
    "X_test"
   ]
  },
  {
   "cell_type": "code",
   "execution_count": 27,
   "metadata": {},
   "outputs": [
    {
     "data": {
      "text/plain": [
       "(51L,)"
      ]
     },
     "execution_count": 27,
     "metadata": {},
     "output_type": "execute_result"
    }
   ],
   "source": [
    "y_train.shape"
   ]
  },
  {
   "cell_type": "code",
   "execution_count": 28,
   "metadata": {},
   "outputs": [
    {
     "data": {
      "text/plain": [
       "array([2, 2, 1, 1, 2, 2, 1, 2, 2, 2, 1, 2, 1, 1, 2, 2, 2, 1, 1, 1, 1, 1,\n",
       "       2, 1, 2, 2, 2, 1, 1, 2, 2, 1, 1, 2, 2, 1, 1, 1, 2, 2, 2, 1, 1, 2,\n",
       "       2, 1, 2, 1, 2, 2, 1], dtype=int64)"
      ]
     },
     "execution_count": 28,
     "metadata": {},
     "output_type": "execute_result"
    }
   ],
   "source": [
    "y_test"
   ]
  },
  {
   "cell_type": "code",
   "execution_count": 29,
   "metadata": {},
   "outputs": [
    {
     "data": {
      "text/plain": [
       "(51L,)"
      ]
     },
     "execution_count": 29,
     "metadata": {},
     "output_type": "execute_result"
    }
   ],
   "source": [
    "y_test.shape"
   ]
  },
  {
   "cell_type": "code",
   "execution_count": 30,
   "metadata": {},
   "outputs": [
    {
     "name": "stdout",
     "output_type": "stream",
     "text": [
      "Optimal K-value is:  7\n"
     ]
    },
    {
     "data": {
      "image/png": "[encoded data removed]",
      "text/plain": [
       "<Figure size 432x288 with 1 Axes>"
      ]
     },
     "metadata": {
      "needs_background": "light"
     },
     "output_type": "display_data"
    }
   ],
   "source": [
    "k_value_list = list(range(30))\n",
    "neighbours, classification_error, optimal_k = find_optimal_k(X_train, y_train, k_value_list)\n",
    "\n",
    "print \"Optimal K-value is: \", optimal_k\n",
    "plot_classification_vs_k(neighbours, classification_error)"
   ]
  },
  {
   "cell_type": "code",
   "execution_count": 31,
   "metadata": {},
   "outputs": [],
   "source": [
    "classifier = KNeighborsClassifier()"
   ]
  },
  {
   "cell_type": "code",
   "execution_count": 32,
   "metadata": {},
   "outputs": [],
   "source": [
    "# Create a parameters for RandomizedSearchCV\n",
    "param_dist = {'weights': ['uniform', 'distance'],\n",
    "              'n_neighbors': range(1, 15),\n",
    "              'p': range(1, 20)}"
   ]
  },
  {
   "cell_type": "code",
   "execution_count": 33,
   "metadata": {},
   "outputs": [],
   "source": [
    "# Use a RandomizedSearchCV to estimate optimal parameters\n",
    "random_search = RandomizedSearchCV(\n",
    "    estimator=classifier, param_distributions=param_dist, n_iter=45, cv=10, verbose=1)"
   ]
  },
  {
   "cell_type": "code",
   "execution_count": 34,
   "metadata": {},
   "outputs": [
    {
     "name": "stdout",
     "output_type": "stream",
     "text": [
      "Fitting 10 folds for each of 45 candidates, totalling 450 fits\n"
     ]
    },
    {
     "name": "stderr",
     "output_type": "stream",
     "text": [
      "[Parallel(n_jobs=1)]: Using backend SequentialBackend with 1 concurrent workers.\n",
      "[Parallel(n_jobs=1)]: Done 450 out of 450 | elapsed:    1.4s finished\n",
      "C:\\Users\\brandon\\Anaconda2\\lib\\site-packages\\sklearn\\model_selection\\_search.py:841: DeprecationWarning: The default of the `iid` parameter will change from True to False in version 0.22 and will be removed in 0.24. This will change numeric results when test-set sizes are unequal.\n",
      "  DeprecationWarning)\n"
     ]
    }
   ],
   "source": [
    "# Fitting Breast Cancer Data to RandomizedSearchCV\n",
    "start = time()\n",
    "random_search.fit(X_train, y_train)\n",
    "total_time_random = time() - start"
   ]
  },
  {
   "cell_type": "code",
   "execution_count": 35,
   "metadata": {},
   "outputs": [
    {
     "name": "stdout",
     "output_type": "stream",
     "text": [
      "Random Search Score: 0.725\n",
      "Elaspsed Time: 1.509 seconds\n",
      "Best Parameters for KNN: \n",
      "{'p': 8, 'weights': 'uniform', 'n_neighbors': 10}\n"
     ]
    }
   ],
   "source": [
    "best_random_params = random_search.best_params_\n",
    "print \"Random Search Score: {:.3f}\".format(random_search.best_score_)\n",
    "print \"Elaspsed Time: {:.3F} seconds\".format(total_time_random)\n",
    "print \"Best Parameters for KNN: \\n\", best_random_params"
   ]
  },
  {
   "cell_type": "code",
   "execution_count": 36,
   "metadata": {},
   "outputs": [],
   "source": [
    "classifier = KNeighborsClassifier(**best_random_params)\n",
    "fit = classifier.fit(X_train, y_train)"
   ]
  },
  {
   "cell_type": "code",
   "execution_count": 37,
   "metadata": {},
   "outputs": [
    {
     "data": {
      "text/plain": [
       "array([1, 1, 2, 1, 2, 2, 1, 2, 2, 2, 1, 1, 1, 1, 1, 1, 2, 1, 1, 1, 1, 1,\n",
       "       1, 1, 1, 1, 2, 1, 1, 2, 1, 1, 2, 1, 1, 1, 1, 2, 2, 1, 2, 1, 1, 2,\n",
       "       2, 1, 1, 1, 2, 2, 1], dtype=int64)"
      ]
     },
     "execution_count": 37,
     "metadata": {},
     "output_type": "execute_result"
    }
   ],
   "source": [
    "y_pre, accuracy = evaluate(classifier, X_test, y_test)\n",
    "y_pre"
   ]
  },
  {
   "cell_type": "code",
   "execution_count": 38,
   "metadata": {},
   "outputs": [
    {
     "data": {
      "text/plain": [
       "(51L,)"
      ]
     },
     "execution_count": 38,
     "metadata": {},
     "output_type": "execute_result"
    }
   ],
   "source": [
    "y_pre.shape"
   ]
  },
  {
   "cell_type": "code",
   "execution_count": 39,
   "metadata": {},
   "outputs": [
    {
     "name": "stdout",
     "output_type": "stream",
     "text": [
      "[[21  3]\n",
      " [13 14]]\n"
     ]
    }
   ],
   "source": [
    "print confusion_matrix(y_test, y_pre)"
   ]
  },
  {
   "cell_type": "code",
   "execution_count": 40,
   "metadata": {},
   "outputs": [
    {
     "name": "stdout",
     "output_type": "stream",
     "text": [
      "              precision    recall  f1-score   support\n",
      "\n",
      "           1       0.62      0.88      0.72        24\n",
      "           2       0.82      0.52      0.64        27\n",
      "\n",
      "   micro avg       0.69      0.69      0.69        51\n",
      "   macro avg       0.72      0.70      0.68        51\n",
      "weighted avg       0.73      0.69      0.68        51\n",
      "\n"
     ]
    }
   ],
   "source": [
    "print classification_report(y_test, y_pre)"
   ]
  },
  {
   "cell_type": "code",
   "execution_count": 41,
   "metadata": {},
   "outputs": [
    {
     "name": "stdout",
     "output_type": "stream",
     "text": [
      "[Train/test split] score: 0.68627\n"
     ]
    }
   ],
   "source": [
    "print \"[Train/test split] score: {:.5f}\".format(accuracy)"
   ]
  },
  {
   "cell_type": "code",
   "execution_count": 42,
   "metadata": {},
   "outputs": [],
   "source": [
    "kf = KFold(n_splits = 10, random_state=4)"
   ]
  },
  {
   "cell_type": "code",
   "execution_count": 43,
   "metadata": {
    "scrolled": true
   },
   "outputs": [
    {
     "name": "stdout",
     "output_type": "stream",
     "text": [
      "('TRAIN:', array([ 11,  12,  13,  14,  15,  16,  17,  18,  19,  20,  21,  22,  23,\n",
      "        24,  25,  26,  27,  28,  29,  30,  31,  32,  33,  34,  35,  36,\n",
      "        37,  38,  39,  40,  41,  42,  43,  44,  45,  46,  47,  48,  49,\n",
      "        50,  51,  52,  53,  54,  55,  56,  57,  58,  59,  60,  61,  62,\n",
      "        63,  64,  65,  66,  67,  68,  69,  70,  71,  72,  73,  74,  75,\n",
      "        76,  77,  78,  79,  80,  81,  82,  83,  84,  85,  86,  87,  88,\n",
      "        89,  90,  91,  92,  93,  94,  95,  96,  97,  98,  99, 100, 101],\n",
      "      dtype=int64), 'TEST:', array([ 0,  1,  2,  3,  4,  5,  6,  7,  8,  9, 10], dtype=int64))\n",
      "('TRAIN:', array([  0,   1,   2,   3,   4,   5,   6,   7,   8,   9,  10,  22,  23,\n",
      "        24,  25,  26,  27,  28,  29,  30,  31,  32,  33,  34,  35,  36,\n",
      "        37,  38,  39,  40,  41,  42,  43,  44,  45,  46,  47,  48,  49,\n",
      "        50,  51,  52,  53,  54,  55,  56,  57,  58,  59,  60,  61,  62,\n",
      "        63,  64,  65,  66,  67,  68,  69,  70,  71,  72,  73,  74,  75,\n",
      "        76,  77,  78,  79,  80,  81,  82,  83,  84,  85,  86,  87,  88,\n",
      "        89,  90,  91,  92,  93,  94,  95,  96,  97,  98,  99, 100, 101],\n",
      "      dtype=int64), 'TEST:', array([11, 12, 13, 14, 15, 16, 17, 18, 19, 20, 21], dtype=int64))\n",
      "('TRAIN:', array([  0,   1,   2,   3,   4,   5,   6,   7,   8,   9,  10,  11,  12,\n",
      "        13,  14,  15,  16,  17,  18,  19,  20,  21,  32,  33,  34,  35,\n",
      "        36,  37,  38,  39,  40,  41,  42,  43,  44,  45,  46,  47,  48,\n",
      "        49,  50,  51,  52,  53,  54,  55,  56,  57,  58,  59,  60,  61,\n",
      "        62,  63,  64,  65,  66,  67,  68,  69,  70,  71,  72,  73,  74,\n",
      "        75,  76,  77,  78,  79,  80,  81,  82,  83,  84,  85,  86,  87,\n",
      "        88,  89,  90,  91,  92,  93,  94,  95,  96,  97,  98,  99, 100,\n",
      "       101], dtype=int64), 'TEST:', array([22, 23, 24, 25, 26, 27, 28, 29, 30, 31], dtype=int64))\n",
      "('TRAIN:', array([  0,   1,   2,   3,   4,   5,   6,   7,   8,   9,  10,  11,  12,\n",
      "        13,  14,  15,  16,  17,  18,  19,  20,  21,  22,  23,  24,  25,\n",
      "        26,  27,  28,  29,  30,  31,  42,  43,  44,  45,  46,  47,  48,\n",
      "        49,  50,  51,  52,  53,  54,  55,  56,  57,  58,  59,  60,  61,\n",
      "        62,  63,  64,  65,  66,  67,  68,  69,  70,  71,  72,  73,  74,\n",
      "        75,  76,  77,  78,  79,  80,  81,  82,  83,  84,  85,  86,  87,\n",
      "        88,  89,  90,  91,  92,  93,  94,  95,  96,  97,  98,  99, 100,\n",
      "       101], dtype=int64), 'TEST:', array([32, 33, 34, 35, 36, 37, 38, 39, 40, 41], dtype=int64))\n",
      "('TRAIN:', array([  0,   1,   2,   3,   4,   5,   6,   7,   8,   9,  10,  11,  12,\n",
      "        13,  14,  15,  16,  17,  18,  19,  20,  21,  22,  23,  24,  25,\n",
      "        26,  27,  28,  29,  30,  31,  32,  33,  34,  35,  36,  37,  38,\n",
      "        39,  40,  41,  52,  53,  54,  55,  56,  57,  58,  59,  60,  61,\n",
      "        62,  63,  64,  65,  66,  67,  68,  69,  70,  71,  72,  73,  74,\n",
      "        75,  76,  77,  78,  79,  80,  81,  82,  83,  84,  85,  86,  87,\n",
      "        88,  89,  90,  91,  92,  93,  94,  95,  96,  97,  98,  99, 100,\n",
      "       101], dtype=int64), 'TEST:', array([42, 43, 44, 45, 46, 47, 48, 49, 50, 51], dtype=int64))\n",
      "('TRAIN:', array([  0,   1,   2,   3,   4,   5,   6,   7,   8,   9,  10,  11,  12,\n",
      "        13,  14,  15,  16,  17,  18,  19,  20,  21,  22,  23,  24,  25,\n",
      "        26,  27,  28,  29,  30,  31,  32,  33,  34,  35,  36,  37,  38,\n",
      "        39,  40,  41,  42,  43,  44,  45,  46,  47,  48,  49,  50,  51,\n",
      "        62,  63,  64,  65,  66,  67,  68,  69,  70,  71,  72,  73,  74,\n",
      "        75,  76,  77,  78,  79,  80,  81,  82,  83,  84,  85,  86,  87,\n",
      "        88,  89,  90,  91,  92,  93,  94,  95,  96,  97,  98,  99, 100,\n",
      "       101], dtype=int64), 'TEST:', array([52, 53, 54, 55, 56, 57, 58, 59, 60, 61], dtype=int64))\n",
      "('TRAIN:', array([  0,   1,   2,   3,   4,   5,   6,   7,   8,   9,  10,  11,  12,\n",
      "        13,  14,  15,  16,  17,  18,  19,  20,  21,  22,  23,  24,  25,\n",
      "        26,  27,  28,  29,  30,  31,  32,  33,  34,  35,  36,  37,  38,\n",
      "        39,  40,  41,  42,  43,  44,  45,  46,  47,  48,  49,  50,  51,\n",
      "        52,  53,  54,  55,  56,  57,  58,  59,  60,  61,  72,  73,  74,\n",
      "        75,  76,  77,  78,  79,  80,  81,  82,  83,  84,  85,  86,  87,\n",
      "        88,  89,  90,  91,  92,  93,  94,  95,  96,  97,  98,  99, 100,\n",
      "       101], dtype=int64), 'TEST:', array([62, 63, 64, 65, 66, 67, 68, 69, 70, 71], dtype=int64))\n",
      "('TRAIN:', array([  0,   1,   2,   3,   4,   5,   6,   7,   8,   9,  10,  11,  12,\n",
      "        13,  14,  15,  16,  17,  18,  19,  20,  21,  22,  23,  24,  25,\n",
      "        26,  27,  28,  29,  30,  31,  32,  33,  34,  35,  36,  37,  38,\n",
      "        39,  40,  41,  42,  43,  44,  45,  46,  47,  48,  49,  50,  51,\n",
      "        52,  53,  54,  55,  56,  57,  58,  59,  60,  61,  62,  63,  64,\n",
      "        65,  66,  67,  68,  69,  70,  71,  82,  83,  84,  85,  86,  87,\n",
      "        88,  89,  90,  91,  92,  93,  94,  95,  96,  97,  98,  99, 100,\n",
      "       101], dtype=int64), 'TEST:', array([72, 73, 74, 75, 76, 77, 78, 79, 80, 81], dtype=int64))\n",
      "('TRAIN:', array([  0,   1,   2,   3,   4,   5,   6,   7,   8,   9,  10,  11,  12,\n",
      "        13,  14,  15,  16,  17,  18,  19,  20,  21,  22,  23,  24,  25,\n",
      "        26,  27,  28,  29,  30,  31,  32,  33,  34,  35,  36,  37,  38,\n",
      "        39,  40,  41,  42,  43,  44,  45,  46,  47,  48,  49,  50,  51,\n",
      "        52,  53,  54,  55,  56,  57,  58,  59,  60,  61,  62,  63,  64,\n",
      "        65,  66,  67,  68,  69,  70,  71,  72,  73,  74,  75,  76,  77,\n",
      "        78,  79,  80,  81,  92,  93,  94,  95,  96,  97,  98,  99, 100,\n",
      "       101], dtype=int64), 'TEST:', array([82, 83, 84, 85, 86, 87, 88, 89, 90, 91], dtype=int64))\n",
      "('TRAIN:', array([ 0,  1,  2,  3,  4,  5,  6,  7,  8,  9, 10, 11, 12, 13, 14, 15, 16,\n",
      "       17, 18, 19, 20, 21, 22, 23, 24, 25, 26, 27, 28, 29, 30, 31, 32, 33,\n",
      "       34, 35, 36, 37, 38, 39, 40, 41, 42, 43, 44, 45, 46, 47, 48, 49, 50,\n",
      "       51, 52, 53, 54, 55, 56, 57, 58, 59, 60, 61, 62, 63, 64, 65, 66, 67,\n",
      "       68, 69, 70, 71, 72, 73, 74, 75, 76, 77, 78, 79, 80, 81, 82, 83, 84,\n",
      "       85, 86, 87, 88, 89, 90, 91], dtype=int64), 'TEST:', array([ 92,  93,  94,  95,  96,  97,  98,  99, 100, 101], dtype=int64))\n"
     ]
    }
   ],
   "source": [
    "for train_index, test_index in kf.split(X):\n",
    "    print(\"TRAIN:\", train_index, \"TEST:\", test_index)\n",
    "    X_train, X_test = X[train_index], X[test_index]\n",
    "    y_train, y_test = y[train_index], y[test_index]"
   ]
  },
  {
   "cell_type": "code",
   "execution_count": 44,
   "metadata": {},
   "outputs": [
    {
     "name": "stdout",
     "output_type": "stream",
     "text": [
      "[fold 0] score: 0.72727\n",
      "[fold 1] score: 0.45455\n",
      "[fold 2] score: 0.30000\n",
      "[fold 3] score: 0.90000\n",
      "[fold 4] score: 0.60000\n",
      "[fold 5] score: 0.60000\n",
      "[fold 6] score: 0.70000\n",
      "[fold 7] score: 0.50000\n",
      "[fold 8] score: 0.50000\n",
      "[fold 9] score: 0.40000\n"
     ]
    }
   ],
   "source": [
    "for k, (train_index, test_index) in enumerate(kf.split(X)):\n",
    "    X_train, X_test = X[train_index], X[test_index]\n",
    "    y_train, y_test = y[train_index], y[test_index]\n",
    "    classifier.fit(X_train, y_train)\n",
    "    print \"[fold {0}] score: {1:.5f}\".format(k, classifier.score(X_test, y_test))"
   ]
  },
  {
   "cell_type": "code",
   "execution_count": 45,
   "metadata": {},
   "outputs": [],
   "source": [
    "from sklearn.utils import shuffle\n",
    "new_Ind = []\n",
    "cur_MaxScore = 0.0\n",
    "col_num = 8\n",
    "col_Ind_Random = shuffle(range(0,col_num), random_state=1)"
   ]
  },
  {
   "cell_type": "code",
   "execution_count": 46,
   "metadata": {},
   "outputs": [
    {
     "name": "stdout",
     "output_type": "stream",
     "text": [
      "Score with 1 selected features: 0.5121951219512195\n",
      "Score with 2 selected features: 0.6341463414634146\n",
      "Score with 3 selected features: 0.7804878048780488\n",
      "Score with 4 selected features: 0.7804878048780488\n"
     ]
    }
   ],
   "source": [
    "for cur_f in range(0, col_num):\n",
    "    new_Ind.append(col_Ind_Random[cur_f])\n",
    "    newData = X[:, new_Ind]\n",
    "    X_train, X_test, y_train, y_test = train_test_split(newData, y, test_size=0.4, random_state=0)\n",
    "    clf = KNeighborsClassifier(1, weights='distance', p=1)\n",
    "    fit = clf.fit(X_train, y_train)\n",
    "    cur_Score = clf.score(X_test, y_test)\n",
    "    \n",
    "    if cur_Score < cur_MaxScore:\n",
    "        new_Ind.remove(col_Ind_Random[cur_f])\n",
    "    else:\n",
    "        cur_MaxScore = cur_Score\n",
    "        print \"Score with \" + str(len(new_Ind)) + \" selected features: \" + str(cur_Score)\n"
   ]
  },
  {
   "cell_type": "code",
   "execution_count": 47,
   "metadata": {},
   "outputs": [
    {
     "name": "stdout",
     "output_type": "stream",
     "text": [
      "There are 4 features selected:\n"
     ]
    }
   ],
   "source": [
    "print \"There are \" + str(len(new_Ind)) + \" features selected:\""
   ]
  },
  {
   "cell_type": "code",
   "execution_count": 48,
   "metadata": {},
   "outputs": [
    {
     "name": "stdout",
     "output_type": "stream",
     "text": [
      "[7, 2, 1, 0]\n"
     ]
    }
   ],
   "source": [
    "print new_Ind"
   ]
  },
  {
   "cell_type": "markdown",
   "metadata": {},
   "source": [
    "\n",
    "## KNN - (2/3) 60% for training and 40% for testing;"
   ]
  },
  {
   "cell_type": "code",
   "execution_count": 49,
   "metadata": {},
   "outputs": [],
   "source": [
    "X_train, X_test, y_train, y_test = train_test_split(X, y, test_size=0.40)  "
   ]
  },
  {
   "cell_type": "code",
   "execution_count": 50,
   "metadata": {},
   "outputs": [],
   "source": [
    "# Scale features for consistency\n",
    "feature_scaler = StandardScaler()  \n",
    "X_train = feature_scaler.fit_transform(X_train)  \n",
    "X_test = feature_scaler.transform(X_test)  "
   ]
  },
  {
   "cell_type": "code",
   "execution_count": 51,
   "metadata": {},
   "outputs": [
    {
     "name": "stdout",
     "output_type": "stream",
     "text": [
      "Optimal K-value is:  11\n"
     ]
    },
    {
     "data": {
      "image/png": "[encoded data removed]",
      "text/plain": [
       "<Figure size 432x288 with 1 Axes>"
      ]
     },
     "metadata": {
      "needs_background": "light"
     },
     "output_type": "display_data"
    }
   ],
   "source": [
    "k_value_list = list(range(30))\n",
    "neighbours, classification_error, optimal_k = find_optimal_k(X_train, y_train, k_value_list)\n",
    "\n",
    "print \"Optimal K-value is: \", optimal_k\n",
    "plot_classification_vs_k(neighbours, classification_error)"
   ]
  },
  {
   "cell_type": "code",
   "execution_count": 52,
   "metadata": {},
   "outputs": [],
   "source": [
    "classifier = KNeighborsClassifier()"
   ]
  },
  {
   "cell_type": "code",
   "execution_count": 53,
   "metadata": {},
   "outputs": [],
   "source": [
    "# Create a parameters for RandomizedSearchCV\n",
    "param_dist = {'weights': ['uniform', 'distance'],\n",
    "              'n_neighbors': range(1, 15),\n",
    "              'p': range(1, 20)}"
   ]
  },
  {
   "cell_type": "code",
   "execution_count": 54,
   "metadata": {},
   "outputs": [],
   "source": [
    "# Use a RandomizedSearchCV to estimate optimal parameters\n",
    "random_search = RandomizedSearchCV(\n",
    "    estimator=classifier, param_distributions=param_dist, n_iter=45, cv=10, verbose=1)"
   ]
  },
  {
   "cell_type": "code",
   "execution_count": 55,
   "metadata": {},
   "outputs": [
    {
     "name": "stdout",
     "output_type": "stream",
     "text": [
      "Fitting 10 folds for each of 45 candidates, totalling 450 fits\n"
     ]
    },
    {
     "name": "stderr",
     "output_type": "stream",
     "text": [
      "[Parallel(n_jobs=1)]: Using backend SequentialBackend with 1 concurrent workers.\n",
      "[Parallel(n_jobs=1)]: Done 450 out of 450 | elapsed:    1.5s finished\n",
      "C:\\Users\\brandon\\Anaconda2\\lib\\site-packages\\sklearn\\model_selection\\_search.py:841: DeprecationWarning: The default of the `iid` parameter will change from True to False in version 0.22 and will be removed in 0.24. This will change numeric results when test-set sizes are unequal.\n",
      "  DeprecationWarning)\n"
     ]
    }
   ],
   "source": [
    "# Fitting Breast Cancer Data to RandomizedSearchCV\n",
    "start = time()\n",
    "random_search.fit(X_train, y_train)\n",
    "total_time_random = time() - start"
   ]
  },
  {
   "cell_type": "code",
   "execution_count": 56,
   "metadata": {},
   "outputs": [
    {
     "name": "stdout",
     "output_type": "stream",
     "text": [
      "Random Search Score: 0.820\n",
      "Elaspsed Time: 1.656 seconds\n",
      "Best Parameters for KNN: \n",
      "{'p': 6, 'weights': 'distance', 'n_neighbors': 10}\n"
     ]
    }
   ],
   "source": [
    "best_random_params = random_search.best_params_\n",
    "print \"Random Search Score: {:.3f}\".format(random_search.best_score_)\n",
    "print \"Elaspsed Time: {:.3F} seconds\".format(total_time_random)\n",
    "print \"Best Parameters for KNN: \\n\", best_random_params"
   ]
  },
  {
   "cell_type": "code",
   "execution_count": 57,
   "metadata": {},
   "outputs": [],
   "source": [
    "classifier = KNeighborsClassifier(**best_random_params)\n",
    "fit = classifier.fit(X_train, y_train)"
   ]
  },
  {
   "cell_type": "code",
   "execution_count": 58,
   "metadata": {},
   "outputs": [],
   "source": [
    "y_pre, accuracy = evaluate(classifier, X_test, y_test)"
   ]
  },
  {
   "cell_type": "code",
   "execution_count": 59,
   "metadata": {},
   "outputs": [
    {
     "name": "stdout",
     "output_type": "stream",
     "text": [
      "[[14  5]\n",
      " [ 5 17]]\n",
      "              precision    recall  f1-score   support\n",
      "\n",
      "           1       0.74      0.74      0.74        19\n",
      "           2       0.77      0.77      0.77        22\n",
      "\n",
      "   micro avg       0.76      0.76      0.76        41\n",
      "   macro avg       0.75      0.75      0.75        41\n",
      "weighted avg       0.76      0.76      0.76        41\n",
      "\n"
     ]
    }
   ],
   "source": [
    "print confusion_matrix(y_test, y_pre)\n",
    "print classification_report(y_test, y_pre)"
   ]
  },
  {
   "cell_type": "code",
   "execution_count": 60,
   "metadata": {},
   "outputs": [
    {
     "name": "stdout",
     "output_type": "stream",
     "text": [
      "[Train/test split] score: 0.75610\n"
     ]
    }
   ],
   "source": [
    "print \"[Train/test split] score: {:.5f}\".format(accuracy)"
   ]
  },
  {
   "cell_type": "code",
   "execution_count": 61,
   "metadata": {},
   "outputs": [
    {
     "name": "stdout",
     "output_type": "stream",
     "text": [
      "('TRAIN:', array([ 21,  22,  23,  24,  25,  26,  27,  28,  29,  30,  31,  32,  33,\n",
      "        34,  35,  36,  37,  38,  39,  40,  41,  42,  43,  44,  45,  46,\n",
      "        47,  48,  49,  50,  51,  52,  53,  54,  55,  56,  57,  58,  59,\n",
      "        60,  61,  62,  63,  64,  65,  66,  67,  68,  69,  70,  71,  72,\n",
      "        73,  74,  75,  76,  77,  78,  79,  80,  81,  82,  83,  84,  85,\n",
      "        86,  87,  88,  89,  90,  91,  92,  93,  94,  95,  96,  97,  98,\n",
      "        99, 100, 101], dtype=int64), 'TEST:', array([ 0,  1,  2,  3,  4,  5,  6,  7,  8,  9, 10, 11, 12, 13, 14, 15, 16,\n",
      "       17, 18, 19, 20], dtype=int64))\n",
      "('TRAIN:', array([  0,   1,   2,   3,   4,   5,   6,   7,   8,   9,  10,  11,  12,\n",
      "        13,  14,  15,  16,  17,  18,  19,  20,  42,  43,  44,  45,  46,\n",
      "        47,  48,  49,  50,  51,  52,  53,  54,  55,  56,  57,  58,  59,\n",
      "        60,  61,  62,  63,  64,  65,  66,  67,  68,  69,  70,  71,  72,\n",
      "        73,  74,  75,  76,  77,  78,  79,  80,  81,  82,  83,  84,  85,\n",
      "        86,  87,  88,  89,  90,  91,  92,  93,  94,  95,  96,  97,  98,\n",
      "        99, 100, 101], dtype=int64), 'TEST:', array([21, 22, 23, 24, 25, 26, 27, 28, 29, 30, 31, 32, 33, 34, 35, 36, 37,\n",
      "       38, 39, 40, 41], dtype=int64))\n",
      "('TRAIN:', array([  0,   1,   2,   3,   4,   5,   6,   7,   8,   9,  10,  11,  12,\n",
      "        13,  14,  15,  16,  17,  18,  19,  20,  21,  22,  23,  24,  25,\n",
      "        26,  27,  28,  29,  30,  31,  32,  33,  34,  35,  36,  37,  38,\n",
      "        39,  40,  41,  62,  63,  64,  65,  66,  67,  68,  69,  70,  71,\n",
      "        72,  73,  74,  75,  76,  77,  78,  79,  80,  81,  82,  83,  84,\n",
      "        85,  86,  87,  88,  89,  90,  91,  92,  93,  94,  95,  96,  97,\n",
      "        98,  99, 100, 101], dtype=int64), 'TEST:', array([42, 43, 44, 45, 46, 47, 48, 49, 50, 51, 52, 53, 54, 55, 56, 57, 58,\n",
      "       59, 60, 61], dtype=int64))\n",
      "('TRAIN:', array([  0,   1,   2,   3,   4,   5,   6,   7,   8,   9,  10,  11,  12,\n",
      "        13,  14,  15,  16,  17,  18,  19,  20,  21,  22,  23,  24,  25,\n",
      "        26,  27,  28,  29,  30,  31,  32,  33,  34,  35,  36,  37,  38,\n",
      "        39,  40,  41,  42,  43,  44,  45,  46,  47,  48,  49,  50,  51,\n",
      "        52,  53,  54,  55,  56,  57,  58,  59,  60,  61,  82,  83,  84,\n",
      "        85,  86,  87,  88,  89,  90,  91,  92,  93,  94,  95,  96,  97,\n",
      "        98,  99, 100, 101], dtype=int64), 'TEST:', array([62, 63, 64, 65, 66, 67, 68, 69, 70, 71, 72, 73, 74, 75, 76, 77, 78,\n",
      "       79, 80, 81], dtype=int64))\n",
      "('TRAIN:', array([ 0,  1,  2,  3,  4,  5,  6,  7,  8,  9, 10, 11, 12, 13, 14, 15, 16,\n",
      "       17, 18, 19, 20, 21, 22, 23, 24, 25, 26, 27, 28, 29, 30, 31, 32, 33,\n",
      "       34, 35, 36, 37, 38, 39, 40, 41, 42, 43, 44, 45, 46, 47, 48, 49, 50,\n",
      "       51, 52, 53, 54, 55, 56, 57, 58, 59, 60, 61, 62, 63, 64, 65, 66, 67,\n",
      "       68, 69, 70, 71, 72, 73, 74, 75, 76, 77, 78, 79, 80, 81],\n",
      "      dtype=int64), 'TEST:', array([ 82,  83,  84,  85,  86,  87,  88,  89,  90,  91,  92,  93,  94,\n",
      "        95,  96,  97,  98,  99, 100, 101], dtype=int64))\n"
     ]
    }
   ],
   "source": [
    "kf = KFold(n_splits = 5, random_state=4)\n",
    "\n",
    "for train_index, test_index in kf.split(X):\n",
    "    print(\"TRAIN:\", train_index, \"TEST:\", test_index)\n",
    "    X_train, X_test = X[train_index], X[test_index]\n",
    "    y_train, y_test = y[train_index], y[test_index]"
   ]
  },
  {
   "cell_type": "code",
   "execution_count": 62,
   "metadata": {},
   "outputs": [
    {
     "name": "stdout",
     "output_type": "stream",
     "text": [
      "[fold 0] score: 0.42857\n",
      "[fold 1] score: 0.38095\n",
      "[fold 2] score: 0.70000\n",
      "[fold 3] score: 0.70000\n",
      "[fold 4] score: 0.50000\n"
     ]
    }
   ],
   "source": [
    "for k, (train_index, test_index) in enumerate(kf.split(X)):\n",
    "    X_train, X_test = X[train_index], X[test_index]\n",
    "    y_train, y_test = y[train_index], y[test_index]\n",
    "    classifier.fit(X_train, y_train)\n",
    "    print \"[fold {0}] score: {1:.5f}\".format(k, classifier.score(X_test, y_test))"
   ]
  },
  {
   "cell_type": "markdown",
   "metadata": {},
   "source": [
    "## KNN - (3/3) 80% for training and 20% for testing;"
   ]
  },
  {
   "cell_type": "code",
   "execution_count": 63,
   "metadata": {},
   "outputs": [],
   "source": [
    "X_train, X_test, y_train, y_test = train_test_split(X, y, test_size=0.20)  "
   ]
  },
  {
   "cell_type": "code",
   "execution_count": 64,
   "metadata": {},
   "outputs": [],
   "source": [
    "feature_scaler = StandardScaler()  \n",
    "X_train = feature_scaler.fit_transform(X_train)  \n",
    "X_test = feature_scaler.transform(X_test)  "
   ]
  },
  {
   "cell_type": "code",
   "execution_count": 65,
   "metadata": {},
   "outputs": [
    {
     "name": "stdout",
     "output_type": "stream",
     "text": [
      "Optimal K-value is:  9\n"
     ]
    },
    {
     "data": {
      "image/png": "[encoded data removed]",
      "text/plain": [
       "<Figure size 432x288 with 1 Axes>"
      ]
     },
     "metadata": {
      "needs_background": "light"
     },
     "output_type": "display_data"
    }
   ],
   "source": [
    "k_value_list = list(range(30))\n",
    "neighbours, classification_error, optimal_k = find_optimal_k(X_train, y_train, k_value_list)\n",
    "\n",
    "print \"Optimal K-value is: \", optimal_k\n",
    "plot_classification_vs_k(neighbours, classification_error)"
   ]
  },
  {
   "cell_type": "code",
   "execution_count": 66,
   "metadata": {},
   "outputs": [
    {
     "name": "stdout",
     "output_type": "stream",
     "text": [
      "Fitting 10 folds for each of 45 candidates, totalling 450 fits\n"
     ]
    },
    {
     "name": "stderr",
     "output_type": "stream",
     "text": [
      "[Parallel(n_jobs=1)]: Using backend SequentialBackend with 1 concurrent workers.\n",
      "[Parallel(n_jobs=1)]: Done 450 out of 450 | elapsed:    2.0s finished\n",
      "C:\\Users\\brandon\\Anaconda2\\lib\\site-packages\\sklearn\\model_selection\\_search.py:841: DeprecationWarning: The default of the `iid` parameter will change from True to False in version 0.22 and will be removed in 0.24. This will change numeric results when test-set sizes are unequal.\n",
      "  DeprecationWarning)\n"
     ]
    }
   ],
   "source": [
    "classifier = KNeighborsClassifier()\n",
    "\n",
    "# Create a parameters for RandomizedSearchCV\n",
    "param_dist = {'weights': ['uniform', 'distance'],\n",
    "              'n_neighbors': range(1, 15),\n",
    "              'p': range(1, 20)}\n",
    "\n",
    "# Use a RandomizedSearchCV to estimate optimal parameters\n",
    "random_search = RandomizedSearchCV(\n",
    "    estimator=classifier, param_distributions=param_dist, n_iter=45, cv=10, verbose=1)\n",
    "\n",
    "# Fitting Breast Cancer Data to RandomizedSearchCV\n",
    "start = time()\n",
    "random_search.fit(X_train, y_train)\n",
    "total_time_random = time() - start"
   ]
  },
  {
   "cell_type": "code",
   "execution_count": 67,
   "metadata": {},
   "outputs": [
    {
     "name": "stdout",
     "output_type": "stream",
     "text": [
      "Random Search Score: 0.790\n",
      "Elaspsed Time: 2.111 seconds\n",
      "Best Parameters for KNN: \n",
      "{'p': 13, 'weights': 'distance', 'n_neighbors': 11}\n"
     ]
    }
   ],
   "source": [
    "best_random_params = random_search.best_params_\n",
    "print \"Random Search Score: {:.3f}\".format(random_search.best_score_)\n",
    "print \"Elaspsed Time: {:.3F} seconds\".format(total_time_random)\n",
    "print \"Best Parameters for KNN: \\n\", best_random_params"
   ]
  },
  {
   "cell_type": "code",
   "execution_count": 68,
   "metadata": {},
   "outputs": [],
   "source": [
    "classifier = KNeighborsClassifier(**best_random_params)\n",
    "fit = classifier.fit(X_train, y_train)"
   ]
  },
  {
   "cell_type": "code",
   "execution_count": 69,
   "metadata": {},
   "outputs": [],
   "source": [
    "y_pre, accuracy = evaluate(classifier, X_test, y_test)"
   ]
  },
  {
   "cell_type": "code",
   "execution_count": 70,
   "metadata": {},
   "outputs": [
    {
     "name": "stdout",
     "output_type": "stream",
     "text": [
      "[[8 1]\n",
      " [6 6]]\n",
      "              precision    recall  f1-score   support\n",
      "\n",
      "           1       0.57      0.89      0.70         9\n",
      "           2       0.86      0.50      0.63        12\n",
      "\n",
      "   micro avg       0.67      0.67      0.67        21\n",
      "   macro avg       0.71      0.69      0.66        21\n",
      "weighted avg       0.73      0.67      0.66        21\n",
      "\n"
     ]
    }
   ],
   "source": [
    "print confusion_matrix(y_test, y_pre)\n",
    "print classification_report(y_test, y_pre)"
   ]
  },
  {
   "cell_type": "code",
   "execution_count": 71,
   "metadata": {},
   "outputs": [
    {
     "name": "stdout",
     "output_type": "stream",
     "text": [
      "[Train/test split] score: 0.66667\n"
     ]
    }
   ],
   "source": [
    "print \"[Train/test split] score: {:.5f}\".format(accuracy)"
   ]
  },
  {
   "cell_type": "code",
   "execution_count": 72,
   "metadata": {},
   "outputs": [
    {
     "name": "stdout",
     "output_type": "stream",
     "text": [
      "('TRAIN:', array([ 21,  22,  23,  24,  25,  26,  27,  28,  29,  30,  31,  32,  33,\n",
      "        34,  35,  36,  37,  38,  39,  40,  41,  42,  43,  44,  45,  46,\n",
      "        47,  48,  49,  50,  51,  52,  53,  54,  55,  56,  57,  58,  59,\n",
      "        60,  61,  62,  63,  64,  65,  66,  67,  68,  69,  70,  71,  72,\n",
      "        73,  74,  75,  76,  77,  78,  79,  80,  81,  82,  83,  84,  85,\n",
      "        86,  87,  88,  89,  90,  91,  92,  93,  94,  95,  96,  97,  98,\n",
      "        99, 100, 101], dtype=int64), 'TEST:', array([ 0,  1,  2,  3,  4,  5,  6,  7,  8,  9, 10, 11, 12, 13, 14, 15, 16,\n",
      "       17, 18, 19, 20], dtype=int64))\n",
      "('TRAIN:', array([  0,   1,   2,   3,   4,   5,   6,   7,   8,   9,  10,  11,  12,\n",
      "        13,  14,  15,  16,  17,  18,  19,  20,  42,  43,  44,  45,  46,\n",
      "        47,  48,  49,  50,  51,  52,  53,  54,  55,  56,  57,  58,  59,\n",
      "        60,  61,  62,  63,  64,  65,  66,  67,  68,  69,  70,  71,  72,\n",
      "        73,  74,  75,  76,  77,  78,  79,  80,  81,  82,  83,  84,  85,\n",
      "        86,  87,  88,  89,  90,  91,  92,  93,  94,  95,  96,  97,  98,\n",
      "        99, 100, 101], dtype=int64), 'TEST:', array([21, 22, 23, 24, 25, 26, 27, 28, 29, 30, 31, 32, 33, 34, 35, 36, 37,\n",
      "       38, 39, 40, 41], dtype=int64))\n",
      "('TRAIN:', array([  0,   1,   2,   3,   4,   5,   6,   7,   8,   9,  10,  11,  12,\n",
      "        13,  14,  15,  16,  17,  18,  19,  20,  21,  22,  23,  24,  25,\n",
      "        26,  27,  28,  29,  30,  31,  32,  33,  34,  35,  36,  37,  38,\n",
      "        39,  40,  41,  62,  63,  64,  65,  66,  67,  68,  69,  70,  71,\n",
      "        72,  73,  74,  75,  76,  77,  78,  79,  80,  81,  82,  83,  84,\n",
      "        85,  86,  87,  88,  89,  90,  91,  92,  93,  94,  95,  96,  97,\n",
      "        98,  99, 100, 101], dtype=int64), 'TEST:', array([42, 43, 44, 45, 46, 47, 48, 49, 50, 51, 52, 53, 54, 55, 56, 57, 58,\n",
      "       59, 60, 61], dtype=int64))\n",
      "('TRAIN:', array([  0,   1,   2,   3,   4,   5,   6,   7,   8,   9,  10,  11,  12,\n",
      "        13,  14,  15,  16,  17,  18,  19,  20,  21,  22,  23,  24,  25,\n",
      "        26,  27,  28,  29,  30,  31,  32,  33,  34,  35,  36,  37,  38,\n",
      "        39,  40,  41,  42,  43,  44,  45,  46,  47,  48,  49,  50,  51,\n",
      "        52,  53,  54,  55,  56,  57,  58,  59,  60,  61,  82,  83,  84,\n",
      "        85,  86,  87,  88,  89,  90,  91,  92,  93,  94,  95,  96,  97,\n",
      "        98,  99, 100, 101], dtype=int64), 'TEST:', array([62, 63, 64, 65, 66, 67, 68, 69, 70, 71, 72, 73, 74, 75, 76, 77, 78,\n",
      "       79, 80, 81], dtype=int64))\n",
      "('TRAIN:', array([ 0,  1,  2,  3,  4,  5,  6,  7,  8,  9, 10, 11, 12, 13, 14, 15, 16,\n",
      "       17, 18, 19, 20, 21, 22, 23, 24, 25, 26, 27, 28, 29, 30, 31, 32, 33,\n",
      "       34, 35, 36, 37, 38, 39, 40, 41, 42, 43, 44, 45, 46, 47, 48, 49, 50,\n",
      "       51, 52, 53, 54, 55, 56, 57, 58, 59, 60, 61, 62, 63, 64, 65, 66, 67,\n",
      "       68, 69, 70, 71, 72, 73, 74, 75, 76, 77, 78, 79, 80, 81],\n",
      "      dtype=int64), 'TEST:', array([ 82,  83,  84,  85,  86,  87,  88,  89,  90,  91,  92,  93,  94,\n",
      "        95,  96,  97,  98,  99, 100, 101], dtype=int64))\n"
     ]
    }
   ],
   "source": [
    "kf = KFold(n_splits = 5, random_state=4)\n",
    "\n",
    "for train_index, test_index in kf.split(X):\n",
    "    print(\"TRAIN:\", train_index, \"TEST:\", test_index)\n",
    "    X_train, X_test = X[train_index], X[test_index]\n",
    "    y_train, y_test = y[train_index], y[test_index]"
   ]
  },
  {
   "cell_type": "code",
   "execution_count": 73,
   "metadata": {},
   "outputs": [
    {
     "name": "stdout",
     "output_type": "stream",
     "text": [
      "[fold 0] score: 0.38095\n",
      "[fold 1] score: 0.38095\n",
      "[fold 2] score: 0.70000\n",
      "[fold 3] score: 0.70000\n",
      "[fold 4] score: 0.40000\n"
     ]
    }
   ],
   "source": [
    "for k, (train_index, test_index) in enumerate(kf.split(X)):\n",
    "    X_train, X_test = X[train_index], X[test_index]\n",
    "    y_train, y_test = y[train_index], y[test_index]\n",
    "    classifier.fit(X_train, y_train)\n",
    "    print \"[fold {0}] score: {1:.5f}\".format(k, classifier.score(X_test, y_test))"
   ]
  },
  {
   "cell_type": "markdown",
   "metadata": {},
   "source": [
    "## Decision Tree (DT) Classifier"
   ]
  },
  {
   "cell_type": "code",
   "execution_count": 74,
   "metadata": {},
   "outputs": [],
   "source": [
    "# Packages for Decision Tree & Training\n",
    "from sklearn.tree import DecisionTreeClassifier  \n",
    "from sklearn.model_selection import train_test_split\n",
    "\n",
    "# Packages for Predictions, Evaluation & Validation\n",
    "from sklearn.metrics import confusion_matrix\n",
    "from sklearn.metrics import classification_report\n",
    "\n",
    "# Packages for Decision Tree Parameter Tuning\n",
    "from sklearn.ensemble import RandomForestRegressor\n",
    "from sklearn.model_selection import RandomizedSearchCV\n",
    "from sklearn.model_selection import GridSearchCV"
   ]
  },
  {
   "cell_type": "code",
   "execution_count": 75,
   "metadata": {},
   "outputs": [],
   "source": [
    "# Breast Cancer Feature Data\n",
    "X = breast_cancer.iloc[:, 0:8].values  \n",
    "\n",
    "# Breast Cancer Target\n",
    "y = breast_cancer.iloc[:, 9].values"
   ]
  },
  {
   "cell_type": "code",
   "execution_count": 76,
   "metadata": {},
   "outputs": [
    {
     "data": {
      "text/plain": [
       "array([[ 48.        ,  23.5       ,  70.        ,   2.707     ,\n",
       "          0.46740867,   8.8071    ,   9.7024    ,   7.99585   ],\n",
       "       [ 83.        ,  20.69049454,  92.        ,   3.115     ,\n",
       "          0.70689733,   8.8438    ,   5.429285  ,   4.06405   ],\n",
       "       [ 82.        ,  23.12467037,  91.        ,   4.498     ,\n",
       "          1.00965107,  17.9393    ,  22.43204   ,   9.27715   ],\n",
       "       [ 68.        ,  21.36752137,  77.        ,   3.226     ,\n",
       "          0.61272493,   9.8827    ,   7.16956   ,  12.766     ],\n",
       "       [ 86.        ,  21.11111111,  92.        ,   3.549     ,\n",
       "          0.8053864 ,   6.6994    ,   4.81924   ,  10.57635   ],\n",
       "       [ 49.        ,  22.85445769,  92.        ,   3.226     ,\n",
       "          0.73208693,   6.8317    ,  13.67975   ,  10.3176    ],\n",
       "       [ 89.        ,  22.7       ,  77.        ,   4.69      ,\n",
       "          0.89078733,   6.964     ,   5.589865  ,  12.9361    ],\n",
       "       [ 76.        ,  23.8       , 118.        ,   6.47      ,\n",
       "          1.88320133,   4.311     ,  13.25132   ,   5.1042    ],\n",
       "       [ 73.        ,  22.        ,  97.        ,   3.35      ,\n",
       "          0.80154333,   4.47      ,  10.358725  ,   6.28445   ],\n",
       "       [ 75.        ,  23.        ,  83.        ,   4.952     ,\n",
       "          1.01383947,  17.127     ,  11.57899   ,   7.0913    ],\n",
       "       [ 34.        ,  21.47      ,  78.        ,   3.469     ,\n",
       "          0.6674356 ,  14.57      ,  13.11      ,   6.92      ],\n",
       "       [ 29.        ,  23.01      ,  82.        ,   5.663     ,\n",
       "          1.14543613,  35.59      ,  26.72      ,   4.58      ],\n",
       "       [ 25.        ,  22.86      ,  82.        ,   4.09      ,\n",
       "          0.82727067,  20.45      ,  23.67      ,   5.14      ],\n",
       "       [ 38.        ,  23.34      ,  75.        ,   5.782     ,\n",
       "          1.06967   ,  15.26      ,  17.95      ,   9.35      ],\n",
       "       [ 44.        ,  20.76      ,  86.        ,   7.553     ,\n",
       "          1.6       ,  14.09      ,  20.32      ,   7.64      ],\n",
       "       [ 61.        ,  32.03895937,  85.        ,  18.077     ,\n",
       "          3.79014433,  30.7729    ,   7.780255  ,  13.68392   ],\n",
       "       [ 64.        ,  34.5297228 ,  95.        ,   4.427     ,\n",
       "          1.03739367,  21.2117    ,   5.46262   ,   6.70188   ],\n",
       "       [ 32.        ,  36.51263743,  87.        ,  14.026     ,\n",
       "          3.0099796 ,  49.3727    ,   5.1       ,  17.10223   ],\n",
       "       [ 36.        ,  28.57667585,  86.        ,   4.345     ,\n",
       "          0.92171933,  15.1248    ,   8.6       ,   9.1539    ],\n",
       "       [ 34.        ,  31.97501487,  87.        ,   4.53      ,\n",
       "          0.972138  ,  28.7502    ,   7.64276   ,   5.62592   ],\n",
       "       [ 29.        ,  32.27078777,  84.        ,   5.81      ,\n",
       "          1.203832  ,  45.6196    ,   6.209635  ,  24.6033    ],\n",
       "       [ 35.        ,  30.27681661,  84.        ,   4.376     ,\n",
       "          0.9067072 ,  39.2134    ,   9.048185  ,  16.43706   ],\n",
       "       [ 54.        ,  30.48315806,  90.        ,   5.537     ,\n",
       "          1.229214  ,  12.331     ,   9.73138   ,  10.19299   ],\n",
       "       [ 45.        ,  37.03560819,  83.        ,   6.76      ,\n",
       "          1.38399733,  39.9802    ,   4.617125  ,   8.70448   ],\n",
       "       [ 50.        ,  38.57875854, 106.        ,   6.703     ,\n",
       "          1.75261107,  46.6401    ,   4.667645  ,  11.78388   ],\n",
       "       [ 66.        ,  31.44654088,  90.        ,   9.245     ,\n",
       "          2.05239   ,  45.9624    ,  10.35526   ,  23.3819    ],\n",
       "       [ 35.        ,  35.2507611 ,  90.        ,   6.817     ,\n",
       "          1.513374  ,  50.6094    ,   6.966895  ,  22.03703   ],\n",
       "       [ 36.        ,  34.17489   ,  80.        ,   6.59      ,\n",
       "          1.30042667,  10.2809    ,   5.065915  ,  15.72187   ],\n",
       "       [ 66.        ,  36.21227888, 101.        ,  15.533     ,\n",
       "          3.86978807,  74.7069    ,   7.53955   ,  22.32024   ],\n",
       "       [ 53.        ,  36.7901662 , 101.        ,  10.175     ,\n",
       "          2.53493167,  27.1841    ,  20.03      ,  10.26309   ],\n",
       "       [ 28.        ,  35.85581466,  87.        ,   8.576     ,\n",
       "          1.8404096 ,  68.5102    ,   4.7942    ,  21.44366   ],\n",
       "       [ 43.        ,  34.42217362,  89.        ,  23.194     ,\n",
       "          5.09185613,  31.2128    ,   8.300955  ,   6.71026   ],\n",
       "       [ 51.        ,  27.68877813,  77.        ,   3.855     ,\n",
       "          0.732193  ,  20.092     ,   3.19209   ,  10.37518   ],\n",
       "       [ 67.        ,  29.60676726,  79.        ,   5.819     ,\n",
       "          1.13392913,  21.9033    ,   2.19428   ,   4.2075    ],\n",
       "       [ 66.        ,  31.2385898 ,  82.        ,   4.181     ,\n",
       "          0.84567693,  16.2247    ,   4.267105  ,   3.29175   ],\n",
       "       [ 60.        ,  26.34929208, 103.        ,   5.138     ,\n",
       "          1.30539453,  24.2998    ,   2.19428   ,  20.2535    ],\n",
       "       [ 77.        ,  35.58792924,  76.        ,   3.881     ,\n",
       "          0.72755813,  21.7863    ,   8.12555   ,  17.2615    ],\n",
       "       [ 76.        ,  29.2184076 ,  83.        ,   5.376     ,\n",
       "          1.1006464 ,  28.562     ,   7.36996   ,   8.04375   ],\n",
       "       [ 76.        ,  27.2       ,  94.        ,  14.07      ,\n",
       "          3.262364  ,  35.891     ,   9.34663   ,   8.4156    ],\n",
       "       [ 75.        ,  27.3       ,  85.        ,   5.197     ,\n",
       "          1.08963767,  10.39      ,   9.000805  ,   7.5767    ],\n",
       "       [ 69.        ,  32.5       ,  93.        ,   5.43      ,\n",
       "          1.245642  ,  15.145     ,  11.78796   ,  11.78796   ],\n",
       "       [ 71.        ,  30.3       , 102.        ,   8.34      ,\n",
       "          2.098344  ,  56.502     ,   8.13      ,   4.2989    ],\n",
       "       [ 66.        ,  27.7       ,  90.        ,   6.042     ,\n",
       "          1.341324  ,  24.846     ,   7.652055  ,   6.7052    ],\n",
       "       [ 75.        ,  25.7       ,  94.        ,   8.079     ,\n",
       "          1.8732508 ,  65.926     ,   3.74122   ,   4.49685   ],\n",
       "       [ 78.        ,  25.3       ,  60.        ,   3.508     ,\n",
       "          0.519184  ,   6.633     ,  10.567295  ,   4.6638    ],\n",
       "       [ 69.        ,  29.4       ,  89.        ,  10.704     ,\n",
       "          2.3498848 ,  45.272     ,   8.2863    ,   4.53      ],\n",
       "       [ 85.        ,  26.6       ,  96.        ,   4.462     ,\n",
       "          1.0566016 ,   7.85      ,   7.9317    ,   9.6135    ],\n",
       "       [ 76.        ,  27.1       , 110.        ,  26.211     ,\n",
       "          7.111918  ,  21.778     ,   4.935635  ,   8.49395   ],\n",
       "       [ 77.        ,  25.9       ,  85.        ,   4.58      ,\n",
       "          0.96027333,  13.74      ,   9.75326   ,  11.774     ],\n",
       "       [ 45.        ,  21.30394858, 102.        ,  13.852     ,\n",
       "          3.4851632 ,   7.6476    ,  21.056625  ,  23.03408   ],\n",
       "       [ 45.        ,  20.82999519,  74.        ,   4.56      ,\n",
       "          0.832352  ,   7.7529    ,   8.237405  ,  28.0323    ],\n",
       "       [ 49.        ,  20.9566075 ,  94.        ,  12.305     ,\n",
       "          2.85311933,  11.2406    ,   8.412175  ,  23.1177    ],\n",
       "       [ 34.        ,  24.24242424,  92.        ,  21.699     ,\n",
       "          4.9242264 ,  16.7353    ,  21.823745  ,  12.06534   ],\n",
       "       [ 42.        ,  21.35991456,  93.        ,   2.999     ,\n",
       "          0.6879706 ,  19.0826    ,   8.462915  ,  17.37615   ],\n",
       "       [ 68.        ,  21.08281329, 102.        ,   6.2       ,\n",
       "          1.55992   ,   9.6994    ,   8.574655  ,  13.74244   ],\n",
       "       [ 51.        ,  19.13265306,  93.        ,   4.364     ,\n",
       "          1.0011016 ,  11.0816    ,   5.80762   ,   5.57055   ],\n",
       "       [ 62.        ,  22.65625   ,  92.        ,   3.482     ,\n",
       "          0.79018187,   9.8648    ,  11.236235  ,  10.69548   ],\n",
       "       [ 38.        ,  22.4996371 ,  95.        ,   5.261     ,\n",
       "          1.23282767,   8.438     ,   4.77192   ,  15.73606   ],\n",
       "       [ 69.        ,  21.51385851, 112.        ,   6.683     ,\n",
       "          1.84629013,  32.58      ,   4.138025  ,  15.69876   ],\n",
       "       [ 49.        ,  21.36752137,  78.        ,   2.64      ,\n",
       "          0.507936  ,   6.3339    ,   3.886145  ,  22.94254   ],\n",
       "       [ 51.        ,  22.89281998, 103.        ,   2.74      ,\n",
       "          0.69614267,   8.0163    ,   9.349775  ,  11.55492   ],\n",
       "       [ 59.        ,  22.83287935,  98.        ,   6.862     ,\n",
       "          1.65877413,  14.9037    ,   4.230105  ,   8.2049    ],\n",
       "       [ 45.        ,  23.14049587, 116.        ,   4.902     ,\n",
       "          1.4026256 ,  17.9973    ,   4.294705  ,   5.2633    ],\n",
       "       [ 54.        ,  24.21875   ,  86.        ,   3.73      ,\n",
       "          0.79125733,   8.6874    ,   3.70523   ,  10.34455   ],\n",
       "       [ 64.        ,  22.22222222,  98.        ,   5.7       ,\n",
       "          1.37788   ,  12.1905    ,   4.783985  ,  13.91245   ],\n",
       "       [ 46.        ,  20.83      ,  88.        ,   3.42      ,\n",
       "          0.742368  ,  12.87      ,  18.55      ,  13.56      ],\n",
       "       [ 44.        ,  19.56      , 114.        ,  15.89      ,\n",
       "          4.468268  ,  13.08      ,  20.37      ,   4.62      ],\n",
       "       [ 45.        ,  20.26      ,  92.        ,   3.44      ,\n",
       "          0.78065067,   7.65      ,  16.67      ,   7.84      ],\n",
       "       [ 51.        ,  18.37      , 105.        ,   6.03      ,\n",
       "          1.56177   ,   9.62      ,  12.76      ,   3.21      ],\n",
       "       [ 72.        ,  23.62      , 105.        ,   4.42      ,\n",
       "          1.14478   ,  21.78      ,  17.86      ,   4.82      ],\n",
       "       [ 46.        ,  22.21      ,  86.        ,  36.94      ,\n",
       "          7.83620533,  10.16      ,   9.76      ,   5.68      ],\n",
       "       [ 43.        ,  26.5625    , 101.        ,  10.555     ,\n",
       "          2.62960233,   9.8       ,   6.420295  ,  16.1       ],\n",
       "       [ 55.        ,  31.97501487,  92.        ,  16.635     ,\n",
       "          3.775036  ,  37.2234    ,  11.018455  ,   7.16514   ],\n",
       "       [ 43.        ,  31.25      , 103.        ,   4.328     ,\n",
       "          1.09960053,  25.7816    ,  12.71896   ,  38.6531    ],\n",
       "       [ 41.        ,  26.6727633 ,  97.        ,  22.033     ,\n",
       "          5.27176247,  44.7059    ,  13.494865  ,  27.8325    ],\n",
       "       [ 59.        ,  28.67262608,  77.        ,   3.188     ,\n",
       "          0.60550747,  17.022     ,  16.44048   ,  31.6904    ],\n",
       "       [ 81.        ,  31.64036818, 100.        ,   9.669     ,\n",
       "          2.38502   ,  38.8066    ,  10.636525  ,  29.5583    ],\n",
       "       [ 48.        ,  32.46191136,  99.        ,  28.677     ,\n",
       "          7.0029234 ,  46.076     ,  21.57      ,  10.15726   ],\n",
       "       [ 71.        ,  25.51020408, 112.        ,  10.395     ,\n",
       "          2.871792  ,  19.0653    ,   5.4861    ,  42.7447    ],\n",
       "       [ 58.        ,  29.15451895, 139.        ,  16.582     ,\n",
       "          5.68541507,  22.8884    ,  10.26266   ,  13.97399   ],\n",
       "       [ 82.        ,  31.21748179, 100.        ,  18.077     ,\n",
       "          4.45899333,  31.6453    ,   9.92365   ,  19.94687   ],\n",
       "       [ 52.        ,  30.8012487 ,  87.        ,  30.212     ,\n",
       "          6.4834952 ,  29.2739    ,   6.26854   ,  24.24591   ],\n",
       "       [ 49.        ,  32.46191136, 134.        ,  24.887     ,\n",
       "          8.22598307,  42.3914    ,  10.79394   ,   5.768     ],\n",
       "       [ 60.        ,  31.23140988, 131.        ,  30.13      ,\n",
       "          9.73600733,  37.843     ,   8.40443   ,  11.50005   ],\n",
       "       [ 49.        ,  29.77777778,  70.        ,   8.396     ,\n",
       "          1.44970933,  51.3387    ,  10.73174   ,  20.76801   ],\n",
       "       [ 44.        ,  27.88761707,  99.        ,   9.208     ,\n",
       "          2.2485936 ,  12.6757    ,   5.47817   ,  23.03306   ],\n",
       "       [ 40.        ,  27.63605442, 103.        ,   2.432     ,\n",
       "          0.61789013,  14.3224    ,   6.78387   ,  26.0136    ],\n",
       "       [ 71.        ,  27.91551882, 104.        ,  18.2       ,\n",
       "          4.66890667,  53.4997    ,   1.65602   ,  49.24184   ],\n",
       "       [ 69.        ,  28.44444444, 108.        ,   8.808     ,\n",
       "          2.3464512 ,  14.7485    ,   5.288025  ,  16.48508   ],\n",
       "       [ 74.        ,  28.65013774,  88.        ,   3.012     ,\n",
       "          0.6538048 ,  31.1233    ,   7.65222   ,  18.35574   ],\n",
       "       [ 66.        ,  26.5625    ,  89.        ,   6.524     ,\n",
       "          1.43223547,  14.9084    ,   8.42996   ,  14.91922   ],\n",
       "       [ 65.        ,  30.91557669,  97.        ,  10.491     ,\n",
       "          2.5101466 ,  44.0217    ,   3.71009   ,  20.4685    ],\n",
       "       [ 72.        ,  29.13631634,  83.        ,  10.949     ,\n",
       "          2.24162527,  26.8081    ,   2.78491   ,  14.76966   ],\n",
       "       [ 57.        ,  34.83814777,  95.        ,  12.548     ,\n",
       "          2.94041467,  33.1612    ,   2.36495   ,   9.9542    ],\n",
       "       [ 73.        ,  37.109375  , 134.        ,   5.636     ,\n",
       "          1.86288587,  41.4064    ,   3.335665  ,   6.89235   ],\n",
       "       [ 45.        ,  29.38475666,  90.        ,   4.713     ,\n",
       "          1.046286  ,  23.8479    ,   6.644245  ,  15.55625   ],\n",
       "       [ 46.        ,  33.18      ,  92.        ,   5.75      ,\n",
       "          1.30486667,  18.69      ,   9.16      ,   8.89      ],\n",
       "       [ 68.        ,  35.56      , 131.        ,   8.15      ,\n",
       "          2.63353667,  17.87      ,  11.9       ,   4.19      ],\n",
       "       [ 75.        ,  30.48      , 152.        ,   7.01      ,\n",
       "          2.62828267,  50.53      ,  10.06      ,  11.73      ],\n",
       "       [ 45.        ,  26.85      ,  92.        ,   3.33      ,\n",
       "          0.755688  ,  54.68      ,  12.1       ,  10.96      ],\n",
       "       [ 62.        ,  26.84      , 100.        ,   4.53      ,\n",
       "          1.1174    ,  12.45      ,  21.42      ,   7.32      ],\n",
       "       [ 65.        ,  32.05      ,  97.        ,   5.73      ,\n",
       "          1.370998  ,  61.48      ,  22.54      ,  10.33      ]])"
      ]
     },
     "execution_count": 76,
     "metadata": {},
     "output_type": "execute_result"
    }
   ],
   "source": [
    "X"
   ]
  },
  {
   "cell_type": "code",
   "execution_count": 77,
   "metadata": {},
   "outputs": [
    {
     "data": {
      "text/plain": [
       "(102L, 8L)"
      ]
     },
     "execution_count": 77,
     "metadata": {},
     "output_type": "execute_result"
    }
   ],
   "source": [
    "X.shape"
   ]
  },
  {
   "cell_type": "code",
   "execution_count": 78,
   "metadata": {},
   "outputs": [
    {
     "data": {
      "text/plain": [
       "array([1, 1, 1, 1, 1, 1, 1, 1, 1, 1, 1, 1, 1, 1, 1, 1, 1, 1, 1, 1, 1, 1,\n",
       "       1, 1, 1, 1, 1, 1, 1, 1, 1, 1, 1, 1, 1, 1, 1, 1, 1, 1, 1, 1, 1, 1,\n",
       "       1, 1, 1, 1, 1, 2, 2, 2, 2, 2, 2, 2, 2, 2, 2, 2, 2, 2, 2, 2, 2, 2,\n",
       "       2, 2, 2, 2, 2, 2, 2, 2, 2, 2, 2, 2, 2, 2, 2, 2, 2, 2, 2, 2, 2, 2,\n",
       "       2, 2, 2, 2, 2, 2, 2, 2, 2, 2, 2, 2, 2, 2], dtype=int64)"
      ]
     },
     "execution_count": 78,
     "metadata": {},
     "output_type": "execute_result"
    }
   ],
   "source": [
    "y"
   ]
  },
  {
   "cell_type": "code",
   "execution_count": 79,
   "metadata": {},
   "outputs": [
    {
     "data": {
      "text/plain": [
       "(102L,)"
      ]
     },
     "execution_count": 79,
     "metadata": {},
     "output_type": "execute_result"
    }
   ],
   "source": [
    "y.shape"
   ]
  },
  {
   "cell_type": "markdown",
   "metadata": {},
   "source": [
    "## DT - (1/3) 50% for training and 50% for testing;"
   ]
  },
  {
   "cell_type": "code",
   "execution_count": 80,
   "metadata": {},
   "outputs": [],
   "source": [
    "X_train, X_test, y_train, y_test = train_test_split(X, y, test_size=0.50) "
   ]
  },
  {
   "cell_type": "code",
   "execution_count": 81,
   "metadata": {},
   "outputs": [],
   "source": [
    "# Scale features for consistency\n",
    "feature_scaler = StandardScaler()  \n",
    "X_train = feature_scaler.fit_transform(X_train)  \n",
    "X_test = feature_scaler.transform(X_test)  "
   ]
  },
  {
   "cell_type": "code",
   "execution_count": 82,
   "metadata": {},
   "outputs": [
    {
     "data": {
      "text/plain": [
       "array([[-0.55800612,  0.76084574, -0.56340488,  2.94407694,  2.13644728,\n",
       "         0.13776416, -0.63255576,  1.35457639],\n",
       "       [-1.06961623, -1.2635049 , -0.6240244 , -0.22959509, -0.34374101,\n",
       "        -0.70880681,  1.84512041, -0.69896605],\n",
       "       [ 0.78497041, -1.01351659,  0.04279024, -0.81827701, -0.74925443,\n",
       "        -1.24516524,  0.08866139, -0.86659791],\n",
       "       [-1.00566497, -1.36430663, -0.26030732, -0.8056714 , -0.75986523,\n",
       "        -1.06786588,  1.20152052, -0.67423338],\n",
       "       [ 1.04077547,  1.72585717, -1.23021953, -0.74390392, -0.78682941,\n",
       "        -0.27970334, -0.30511153,  0.49086086],\n",
       "       [ 1.36053178,  0.84475978,  0.22464878,  1.24442073,  1.10826037,\n",
       "         0.26998041,  0.01194517,  0.82294271],\n",
       "       [ 1.29658052,  0.93001514,  0.22464878,  0.06677677,  0.05494832,\n",
       "         0.66925521,  0.13764551,  2.01152433],\n",
       "       [ 0.52916536, -1.1115244 ,  0.95208294, -0.35144931, -0.21865726,\n",
       "         0.32209416, -1.00822677,  0.2976072 ],\n",
       "       [-1.45332381, -0.74336793, -1.29083904, -0.47764545, -0.61308053,\n",
       "        -0.64357403,  1.42722131, -0.48750173],\n",
       "       [ 1.55238557, -0.0861406 , -0.01782927, -0.66252771, -0.6197176 ,\n",
       "        -1.05671498, -0.33929286, -0.45491643],\n",
       "       [ 0.40126283,  0.52003413, -1.04836099, -0.47246315, -0.58044514,\n",
       "        -0.27318006, -1.35096487, -1.1234405 ],\n",
       "       [ 0.33731157,  1.85172823,  0.2852683 ,  0.88810219,  0.80901978,\n",
       "         2.670859  , -0.40844017,  1.11644159],\n",
       "       [ 0.91287294, -0.26758373, -0.13906829, -0.15592231, -0.2049647 ,\n",
       "         2.18128418, -1.07819489, -1.08765851],\n",
       "       [ 1.80819063, -0.87239415, -1.16960001, -0.6305935 , -0.70392995,\n",
       "        -1.10611348, -0.75222566, -0.04403259],\n",
       "       [-1.70912887, -1.12036643, -1.1089805 , -0.80160959, -0.81736394,\n",
       "        -0.68204464,  0.57379023, -0.78800366],\n",
       "       [-0.17429854,  0.4288593 ,  2.58880979,  1.03502756,  1.73112508,\n",
       "        -0.21825629,  0.07172237,  0.08431636],\n",
       "       [ 0.65706788, -0.30584724,  0.95208294,  0.16846201,  0.30216597,\n",
       "        -0.43141138, -0.77052241,  3.64219872],\n",
       "       [ 0.2733603 ,  1.01259834,  0.04279024, -0.4849287 , -0.46004461,\n",
       "         1.93339961,  2.2365702 , -0.36631164],\n",
       "       [-0.74985991, -1.14102648, -1.1089805 , -0.91772125, -0.89836925,\n",
       "        -1.1412444 , -1.05264045,  1.19339729],\n",
       "       [ 0.08150651, -0.88121431, -0.26030732, -0.79978878, -0.7550246 ,\n",
       "        -0.94438078,  0.24339162, -0.32111516],\n",
       "       [ 0.46521409, -1.14102648, -1.16960001, -0.83564474, -0.84514993,\n",
       "        -0.94338278, -0.47368004, -0.06506773],\n",
       "       [ 1.42448305, -1.27751744, -0.26030732, -0.85119165, -0.79732245,\n",
       "        -1.00130614, -0.78054053, -1.14118001],\n",
       "       [-0.36615233,  0.99748108, -0.26030732,  1.04245087,  0.7608979 ,\n",
       "         0.58098467,  0.20499075, -0.75768883],\n",
       "       [-0.04639601,  0.84756773,  2.10385368,  2.93259183,  3.78830567,\n",
       "         0.61553016, -0.25593697, -0.22161934],\n",
       "       [ 0.46521409, -1.19842461,  0.34588781, -0.41909941, -0.3640965 ,\n",
       "        -0.95360258, -0.22592142,  0.05568211],\n",
       "       [-1.06961623, -1.50542907,  1.07332196,  0.93810444,  1.11297071,\n",
       "        -0.76511887,  1.85393684, -1.07242937],\n",
       "       [-0.81381118,  1.0956411 ,  0.16402927,  2.72908128,  2.40025009,\n",
       "         1.07455708,  2.06553133, -0.38767325],\n",
       "       [-1.00566497,  0.47527602, -0.38154635, -0.62737207, -0.6249566 ,\n",
       "        -0.16475984, -0.56630817,  0.27998393],\n",
       "       [-2.02888519, -0.80989708, -0.86650245, -0.49431287, -0.57460106,\n",
       "         0.48991524,  2.97362431, -1.0773759 ],\n",
       "       [ 0.2733603 ,  0.78389466,  0.04279024,  0.18190799,  0.11849656,\n",
       "         0.96002058, -1.08368401,  0.88744922],\n",
       "       [-1.00566497, -1.15384297,  0.34588781,  0.65265744,  0.61367975,\n",
       "        -1.06799969,  1.97500856,  1.20471743],\n",
       "       [-2.09283645,  1.7798638 , -0.56340488, -0.08631134, -0.22164381,\n",
       "         2.325365  , -0.89252426,  1.00804077],\n",
       "       [ 0.01755525,  1.01037251, -0.68464391,  1.24442073,  0.76857099,\n",
       "         0.22134017, -0.36599696,  0.04844534],\n",
       "       [-1.6451776 ,  1.6578829 , -0.38154635, -0.33268096, -0.38773589,\n",
       "         1.32731459, -0.5094157 ,  1.08141889],\n",
       "       [ 0.91287294,  0.05498183, -0.68464391, -0.55958191, -0.60293952,\n",
       "        -0.91509851, -0.15077893, -0.70679394],\n",
       "       [ 0.52916536,  0.47834913, -0.44216586,  0.21174127,  0.03710415,\n",
       "         1.02973045, -0.27676669, -1.08355907],\n",
       "       [-1.19751876, -1.14256004, -0.19968781, -0.86743888, -0.80693479,\n",
       "        -0.43044682, -0.24562439,  0.50503886],\n",
       "       [ 0.20940904, -0.96871581,  0.10340976, -0.48913056, -0.45654944,\n",
       "        -0.81471251, -0.89432546,  0.07670612],\n",
       "       [ 0.9768242 ,  0.03482149, -0.13906829,  0.68319102,  0.50052638,\n",
       "         0.50669735, -0.08980004, -0.60305276],\n",
       "       [-0.11034728, -0.84560521,  0.10340976, -0.32637815, -0.3138913 ,\n",
       "        -0.66343936, -0.99199042, -0.62910863],\n",
       "       [ 0.9768242 ,  0.44173947, -0.80588294, -0.53451076, -0.5973485 ,\n",
       "         0.09807252, -0.43834376, -0.64903698],\n",
       "       [-0.74985991, -0.84125495, -0.26030732, -0.83564474, -0.78452936,\n",
       "        -1.1134898 ,  0.67425353, -0.36784507],\n",
       "       [ 0.91287294,  0.69608088,  3.37686346, -0.30564893,  0.17849451,\n",
       "         1.32288768,  0.03598759, -0.19318296],\n",
       "       [ 0.9768242 ,  0.01466114,  0.83084391,  2.38368761,  2.45560534,\n",
       "        -0.28016611, -0.86758521, -0.59336374],\n",
       "       [ 0.33731157,  0.13562322, -0.38154635, -0.44122925, -0.47511519,\n",
       "        -0.10911126, -0.38860231, -0.81456655],\n",
       "       [-0.11034728,  0.33170802, -1.16960001, -0.8409671 , -0.84881547,\n",
       "        -0.54533457,  1.16104955,  2.27518696],\n",
       "       [-1.6451776 ,  0.65511841, -0.74526342, -0.67457307, -0.6958447 ,\n",
       "         0.69193615, -0.14242447,  0.38890785],\n",
       "       [ 0.78497041,  2.03258592,  2.28571222, -0.49809455, -0.21022875,\n",
       "         0.8142058 , -1.14970589, -0.79142296],\n",
       "       [ 0.33731157,  0.89093888, -0.38154635,  0.00739035, -0.113985  ,\n",
       "         1.06822337,  0.08805041,  1.24773002],\n",
       "       [-1.00566497, -0.78358866,  1.19456099, -0.60090029, -0.44398185,\n",
       "        -0.4909572 , -0.98059958, -0.99287673],\n",
       "       [ 0.9768242 , -0.65063033,  1.31580002, -0.38128258, -0.19991111,\n",
       "        -1.2540302 ,  0.59870901, -1.01255157]])"
      ]
     },
     "execution_count": 82,
     "metadata": {},
     "output_type": "execute_result"
    }
   ],
   "source": [
    "X_train"
   ]
  },
  {
   "cell_type": "code",
   "execution_count": 83,
   "metadata": {},
   "outputs": [
    {
     "data": {
      "text/plain": [
       "(51L, 8L)"
      ]
     },
     "execution_count": 83,
     "metadata": {},
     "output_type": "execute_result"
    }
   ],
   "source": [
    "X_train.shape"
   ]
  },
  {
   "cell_type": "code",
   "execution_count": 84,
   "metadata": {},
   "outputs": [
    {
     "data": {
      "text/plain": [
       "array([2, 1, 1, 2, 1, 2, 2, 2, 1, 1, 1, 1, 1, 1, 1, 2, 2, 2, 2, 2, 1, 1,\n",
       "       2, 2, 2, 2, 2, 2, 1, 2, 2, 1, 1, 1, 1, 1, 2, 2, 1, 2, 1, 1, 2, 1,\n",
       "       1, 2, 1, 2, 1, 2, 1], dtype=int64)"
      ]
     },
     "execution_count": 84,
     "metadata": {},
     "output_type": "execute_result"
    }
   ],
   "source": [
    "y_train"
   ]
  },
  {
   "cell_type": "code",
   "execution_count": 85,
   "metadata": {},
   "outputs": [
    {
     "data": {
      "text/plain": [
       "(51L,)"
      ]
     },
     "execution_count": 85,
     "metadata": {},
     "output_type": "execute_result"
    }
   ],
   "source": [
    "y_train.shape"
   ]
  },
  {
   "cell_type": "code",
   "execution_count": 86,
   "metadata": {},
   "outputs": [
    {
     "data": {
      "text/plain": [
       "array([[ 3.37311567e-01, -9.37007303e-02, -4.42165859e-01,\n",
       "        -3.73719216e-01, -4.28943842e-01, -6.63177315e-01,\n",
       "        -2.51435302e-01,  2.01206670e-01],\n",
       "       [-1.32542129e+00,  1.22731572e-01,  4.06507322e-01,\n",
       "        -9.46854215e-01, -8.42526670e-01, -6.95849461e-01,\n",
       "        -5.41688269e-01,  1.57317486e+00],\n",
       "       [ 2.09409040e-01,  1.51251907e+00, -7.84487815e-02,\n",
       "        -6.67429894e-01, -6.29472759e-01, -3.11739887e-01,\n",
       "        -7.74662610e-01, -8.14977114e-01],\n",
       "       [-7.49859914e-01,  1.09564110e+00,  2.28571222e+00,\n",
       "         2.19824510e+00,  3.02140730e+00,  8.69123996e-01,\n",
       "         1.65402300e-01, -9.30463843e-01],\n",
       "       [ 5.29165357e-01,  2.85705809e-01,  7.09604887e-01,\n",
       "        -5.38168853e-02,  3.53603218e-02, -6.72092462e-01,\n",
       "        -8.05448726e-01,  3.94846162e-01],\n",
       "       [ 6.57067884e-01,  1.79072566e-01,  4.67126835e-01,\n",
       "         1.26164839e+00,  1.21486938e+00,  1.48846186e+00,\n",
       "        -1.44587557e+00,  4.44565681e+00],\n",
       "       [-9.41713705e-01,  1.24041027e+00, -2.60307320e-01,\n",
       "        -4.82127449e-01, -4.93630832e-01, -4.52336045e-01,\n",
       "        -1.22708273e-01, -5.44386867e-01],\n",
       "       [-1.83703139e+00,  1.91228156e+00, -5.63404885e-01,\n",
       "         6.77028282e-01,  3.72347520e-01,  1.25836298e+00,\n",
       "        -8.38602936e-01,  4.71164998e-01],\n",
       "       [-4.63960147e-02, -1.36684188e-01,  4.06507322e-01,\n",
       "        -5.67845587e-01, -4.93362744e-01, -1.39564372e-01,\n",
       "        -1.35096487e+00,  8.60861600e-01],\n",
       "       [-1.45332381e+00, -9.12788011e-01, -7.84487815e-02,\n",
       "        -5.50617922e-01, -5.30217391e-01, -1.02393132e+00,\n",
       "        -8.96452867e-01,  3.02219840e-01],\n",
       "       [-6.85908650e-01,  2.32881875e+00,  5.88365861e-01,\n",
       "        -3.48648061e-01, -2.66234188e-01,  1.10600820e+00,\n",
       "        -9.14839546e-01, -1.86519974e-01],\n",
       "       [-9.41713705e-01, -1.24939265e+00, -5.02785372e-01,\n",
       "        -8.08472646e-01, -7.79307903e-01, -7.76827317e-01,\n",
       "         1.53301855e+00,  3.31209730e-02],\n",
       "       [-1.00566497e+00, -1.24939362e+00, -1.35145855e+00,\n",
       "        -6.48801606e-01, -7.33607589e-01, -1.06212874e+00,\n",
       "        -2.85388282e-01,  1.82281406e+00],\n",
       "       [ 9.12872939e-01, -8.11913111e-01, -8.05882937e-01,\n",
       "        -5.93897177e-01, -6.41435268e-01, -5.39480350e-01,\n",
       "         3.03829173e-01, -7.66820133e-01],\n",
       "       [ 3.37311567e-01,  8.49015224e-01, -8.66502450e-01,\n",
       "        -7.01885223e-01, -7.26840235e-01, -5.89787649e-01,\n",
       "        -9.85466257e-01, -1.23668521e+00],\n",
       "       [-7.49859914e-01,  5.54510444e-01, -1.59393660e+00,\n",
       "        -1.11522560e-01, -4.20069362e-01,  1.36797636e+00,\n",
       "         1.54434653e-01,  9.24487629e-01],\n",
       "       [-2.28469024e+00, -8.40137598e-01, -8.66502450e-01,\n",
       "        -7.14630894e-01, -7.36188254e-01, -3.54208100e-01,\n",
       "         2.43582167e+00, -1.00812443e+00],\n",
       "       [-4.94054860e-01,  1.96823232e+00,  2.85268296e-01,\n",
       "         1.37648301e-01,  1.31084189e-01,  2.12483733e-02,\n",
       "         1.79398507e+00, -3.74585959e-01],\n",
       "       [ 1.04077547e+00, -2.27263033e-01, -6.84643911e-01,\n",
       "        -6.46000359e-01, -6.68639983e-01, -7.28320890e-01,\n",
       "        -1.80994877e-02, -1.87741768e-01],\n",
       "       [ 7.21019148e-01,  4.25189589e-01, -8.05882937e-01,\n",
       "         2.46056534e-01, -1.78777875e-02,  2.84675990e-04,\n",
       "        -1.24681983e+00,  1.82711580e-01],\n",
       "       [-1.13356750e+00,  8.51315560e-01,  4.06507322e-01,\n",
       "        -6.81296063e-01, -5.97879662e-01, -5.69473327e-02,\n",
       "         5.04838641e-01,  3.13621776e+00],\n",
       "       [ 1.36053178e+00, -7.86779131e-01, -3.20926833e-01,\n",
       "        -6.57485469e-01, -6.43562437e-01, -4.94190959e-01,\n",
       "         2.21753375e+00, -4.96510601e-01],\n",
       "       [-1.70912887e+00, -5.61436066e-01, -2.60307320e-01,\n",
       "         1.75172644e+00,  1.34453901e+00, -5.61319394e-01,\n",
       "         2.11027386e+00, -1.51713688e-01],\n",
       "       [-1.58122634e+00,  3.12364121e-01, -6.24024398e-01,\n",
       "        -6.78915004e-01, -6.88220463e-01, -6.51112039e-01,\n",
       "        -2.21452364e-01, -5.11752109e-01],\n",
       "       [ 8.48921675e-01,  3.27174293e-01, -5.02785372e-01,\n",
       "        -8.65618071e-01, -8.24286633e-01,  2.40876555e-01,\n",
       "        -3.88573213e-01,  6.26178242e-01],\n",
       "       [-4.30103596e-01, -5.66208876e-01, -6.24024398e-01,\n",
       "        -7.65053328e-01, -7.54478401e-01, -1.01002615e+00,\n",
       "        -1.08454097e+00, -3.64512343e-01],\n",
       "       [ 5.29165357e-01,  1.10331990e+00, -1.99687807e-01,\n",
       "        -5.26947390e-01, -5.23709355e-01, -6.49985797e-01,\n",
       "         3.40676589e-01, -1.86015428e-01],\n",
       "       [-6.21957387e-01,  1.33360855e-01, -1.16960001e+00,\n",
       "        -7.47545539e-01, -7.84475496e-01, -3.74168216e-01,\n",
       "        -1.17502229e+00, -3.60724534e-01],\n",
       "       [ 6.57067884e-01,  6.59792259e-01,  3.45887809e-01,\n",
       "        -1.19366049e-01, -9.06462670e-02,  1.65585364e+00,\n",
       "        -3.04326870e-01, -1.11213767e+00],\n",
       "       [-4.30103596e-01,  6.96717560e-01, -3.81546346e-01,\n",
       "        -5.11960722e-01, -5.32052669e-01, -8.06879000e-01,\n",
       "        -2.19575604e-02, -3.83254760e-01],\n",
       "       [-2.38249805e-01,  1.57469862e+00, -7.84487815e-02,\n",
       "         4.70016178e-01,  3.37017470e-01,  3.54498680e-01,\n",
       "        -1.32087084e+00, -4.12784331e-01],\n",
       "       [-1.13356750e+00,  1.49083679e+00, -4.42165859e-01,\n",
       "         1.96111960e+00,  1.42967339e+00,  2.45866584e-01,\n",
       "        -2.74182591e-01, -8.13940815e-01],\n",
       "       [-1.00566497e+00, -3.57397312e-02, -2.60307320e-01,\n",
       "        -8.21078255e-01, -7.72543054e-01,  1.55426892e+00,\n",
       "         3.95698207e-01, -2.88403734e-01],\n",
       "       [-1.13356750e+00, -9.37007303e-02,  2.85268296e-01,\n",
       "         1.90871981e-01,  1.79164727e-01, -9.47993675e-01,\n",
       "        -6.05796989e-01,  3.47225880e-01],\n",
       "       [-1.06961623e+00,  1.73447476e-01,  1.64029270e-01,\n",
       "         2.20804122e-03, -1.43387694e-02, -7.87660419e-01,\n",
       "        -7.71920698e-01,  1.20459130e+00],\n",
       "       [-7.49859914e-01, -1.22386814e+00, -1.39068294e-01,\n",
       "         4.35981035e-01,  2.92682653e-01, -8.67673722e-01,\n",
       "        -2.54571309e-01,  1.21505816e+00],\n",
       "       [-8.13811178e-01, -7.11111373e-01, -1.59393660e+00,\n",
       "        -9.08337078e-01, -9.18951926e-01, -1.00335233e+00,\n",
       "        -2.70675672e-02, -6.54960450e-01],\n",
       "       [-6.21957387e-01, -1.59158369e+00, -1.99687807e-01,\n",
       "        -6.76253820e-01, -6.47904468e-01, -8.76538690e-01,\n",
       "        -7.13829197e-01, -9.54881171e-01],\n",
       "       [-6.21957387e-01, -8.33520976e-01,  4.06507322e-01,\n",
       "        -9.03715021e-01, -8.02784435e-01, -1.04744300e+00,\n",
       "        -8.92454872e-02, -2.14833935e-01],\n",
       "       [-6.21957387e-01, -1.74533720e+00,  5.27746348e-01,\n",
       "        -4.42910000e-01, -3.63156937e-01, -9.58029488e-01,\n",
       "         5.12075172e-01, -1.24679469e+00],\n",
       "       [-2.02888519e+00,  1.05710992e+00, -7.45263424e-01,\n",
       "        -4.73723710e-01, -5.44943465e-01,  1.04911072e+00,\n",
       "        -6.42942400e-01,  1.39877244e+00],\n",
       "       [-1.00566497e+00,  2.01771428e+00, -8.05882937e-01,\n",
       "        -3.40664509e-01, -4.53442618e-01,  7.34688711e-01,\n",
       "        -9.23747674e-01, -5.67328891e-01],\n",
       "       [-9.41713705e-01, -9.71179857e-01, -6.24024398e-01,\n",
       "         3.88641620e+00,  2.82345027e+00, -9.27922050e-01,\n",
       "        -1.69110320e-02, -9.41346217e-01],\n",
       "       [-1.70912887e+00,  9.97481077e-01, -5.63404885e-01,\n",
       "        -6.53003475e-01, -6.62614256e-01,  1.08565518e-01,\n",
       "        -3.90241282e-01, -9.48033931e-01],\n",
       "       [ 1.61633684e+00, -1.19271968e+00, -2.60307320e-01,\n",
       "        -7.90404607e-01, -7.47302650e-01, -1.12086612e+00,\n",
       "        -8.88108991e-01, -3.35847178e-01],\n",
       "       [-1.26147002e+00, -7.14712659e-02,  4.27902444e-02,\n",
       "         1.79850725e+00,  1.52104270e+00,  9.98167818e-01,\n",
       "         6.41652988e-01,  1.79810612e+00],\n",
       "       [ 8.15065124e-02, -3.77557659e-02,  2.24648783e-01,\n",
       "        -6.53003475e-01, -5.88839819e-01, -8.00244213e-01,\n",
       "         2.03908201e+00, -7.38538325e-01],\n",
       "       [ 7.21019148e-01, -6.86918956e-01,  5.27746348e-01,\n",
       "        -6.68410330e-01, -5.74934296e-01, -2.80054596e-01,\n",
       "         1.41135172e+00, -1.04769670e+00],\n",
       "       [ 4.65214094e-01,  1.72022654e+00,  2.10385368e+00,\n",
       "        -1.45977890e-01,  1.81162864e-01, -4.98054747e-01,\n",
       "         3.60432460e-01, -1.12560461e+00],\n",
       "       [ 1.10472673e+00, -3.48225118e-01, -2.20013173e+00,\n",
       "        -7.96147162e-01, -8.92656707e-01, -1.12456822e+00,\n",
       "         1.25438274e-01, -1.06701291e+00],\n",
       "       [-1.58122634e+00,  1.44098355e+00, -9.87741476e-01,\n",
       "        -3.64475103e-01, -4.95885781e-01, -9.21181329e-01,\n",
       "        -8.44613101e-01,  3.00465057e-01]])"
      ]
     },
     "execution_count": 86,
     "metadata": {},
     "output_type": "execute_result"
    }
   ],
   "source": [
    "X_test"
   ]
  },
  {
   "cell_type": "code",
   "execution_count": 87,
   "metadata": {},
   "outputs": [
    {
     "data": {
      "text/plain": [
       "(51L, 8L)"
      ]
     },
     "execution_count": 87,
     "metadata": {},
     "output_type": "execute_result"
    }
   ],
   "source": [
    "X_test.shape"
   ]
  },
  {
   "cell_type": "code",
   "execution_count": 88,
   "metadata": {},
   "outputs": [
    {
     "data": {
      "text/plain": [
       "array([2, 2, 1, 2, 2, 2, 2, 1, 1, 2, 1, 2, 2, 1, 1, 2, 1, 1, 1, 2, 2, 1,\n",
       "       2, 1, 2, 2, 1, 1, 1, 1, 2, 1, 2, 2, 2, 2, 1, 2, 2, 2, 1, 1, 2, 1,\n",
       "       1, 2, 2, 2, 2, 1, 1], dtype=int64)"
      ]
     },
     "execution_count": 88,
     "metadata": {},
     "output_type": "execute_result"
    }
   ],
   "source": [
    "y_test"
   ]
  },
  {
   "cell_type": "code",
   "execution_count": 89,
   "metadata": {},
   "outputs": [
    {
     "data": {
      "text/plain": [
       "(51L,)"
      ]
     },
     "execution_count": 89,
     "metadata": {},
     "output_type": "execute_result"
    }
   ],
   "source": [
    "y_test.shape"
   ]
  },
  {
   "cell_type": "code",
   "execution_count": 90,
   "metadata": {},
   "outputs": [],
   "source": [
    "classifier = DecisionTreeClassifier()\n",
    "fit = classifier.fit(X_train, y_train)"
   ]
  },
  {
   "cell_type": "code",
   "execution_count": 91,
   "metadata": {},
   "outputs": [
    {
     "data": {
      "text/plain": [
       "array([1, 2, 1, 2, 2, 2, 2, 1, 2, 1, 2, 1, 2, 1, 1, 2, 1, 2, 1, 1, 2, 1,\n",
       "       1, 1, 1, 1, 1, 1, 2, 2, 2, 1, 1, 2, 2, 2, 1, 2, 2, 2, 1, 1, 1, 1,\n",
       "       1, 2, 2, 2, 2, 1, 1], dtype=int64)"
      ]
     },
     "execution_count": 91,
     "metadata": {},
     "output_type": "execute_result"
    }
   ],
   "source": [
    "y_pre = fit.predict(X_test)\n",
    "y_pre"
   ]
  },
  {
   "cell_type": "code",
   "execution_count": 92,
   "metadata": {},
   "outputs": [
    {
     "data": {
      "text/plain": [
       "(51L,)"
      ]
     },
     "execution_count": 92,
     "metadata": {},
     "output_type": "execute_result"
    }
   ],
   "source": [
    "y_pre.shape"
   ]
  },
  {
   "cell_type": "code",
   "execution_count": 93,
   "metadata": {},
   "outputs": [
    {
     "name": "stdout",
     "output_type": "stream",
     "text": [
      "[[18  5]\n",
      " [ 9 19]]\n",
      "              precision    recall  f1-score   support\n",
      "\n",
      "           1       0.67      0.78      0.72        23\n",
      "           2       0.79      0.68      0.73        28\n",
      "\n",
      "   micro avg       0.73      0.73      0.73        51\n",
      "   macro avg       0.73      0.73      0.73        51\n",
      "weighted avg       0.74      0.73      0.73        51\n",
      "\n"
     ]
    }
   ],
   "source": [
    "print confusion_matrix(y_test, y_pre)\n",
    "print classification_report(y_test,y_pre)"
   ]
  },
  {
   "cell_type": "code",
   "execution_count": 94,
   "metadata": {},
   "outputs": [],
   "source": [
    "# Get baseline accuracy reading to compare against\n",
    "baseline_accuracy = cross_val_score(estimator=classifier, X=X_train, y=y_train, cv=10)  "
   ]
  },
  {
   "cell_type": "code",
   "execution_count": 95,
   "metadata": {},
   "outputs": [],
   "source": [
    "# Create a parameters for RandomizedSearchCV\n",
    "param_dist = {'criterion': ['gini', 'entropy'],\n",
    "              'max_features': ['auto', 'sqrt', 'log2'],\n",
    "              'max_depth': range(1, 41, 5),\n",
    "              'min_samples_split': range(2, 102, 10),\n",
    "              'min_samples_leaf': range(1, 21, 5)}"
   ]
  },
  {
   "cell_type": "code",
   "execution_count": 96,
   "metadata": {},
   "outputs": [
    {
     "name": "stdout",
     "output_type": "stream",
     "text": [
      "Fitting 10 folds for each of 45 candidates, totalling 450 fits\n"
     ]
    },
    {
     "name": "stderr",
     "output_type": "stream",
     "text": [
      "[Parallel(n_jobs=1)]: Using backend SequentialBackend with 1 concurrent workers.\n",
      "[Parallel(n_jobs=1)]: Done 450 out of 450 | elapsed:    0.6s finished\n",
      "C:\\Users\\brandon\\Anaconda2\\lib\\site-packages\\sklearn\\model_selection\\_search.py:841: DeprecationWarning: The default of the `iid` parameter will change from True to False in version 0.22 and will be removed in 0.24. This will change numeric results when test-set sizes are unequal.\n",
      "  DeprecationWarning)\n"
     ]
    }
   ],
   "source": [
    "# Use a RandomizedSearchCV to estimate optimal parameters\n",
    "random_search = RandomizedSearchCV(\n",
    "    estimator=classifier, param_distributions=param_dist, n_iter=45, cv=10, verbose=1)\n",
    "\n",
    "# Fitting Breast Cancer Data to RandomizedSearchCV\n",
    "start = time()\n",
    "random_search.fit(X_train, y_train)\n",
    "total_time_random = time() - start"
   ]
  },
  {
   "cell_type": "code",
   "execution_count": 97,
   "metadata": {},
   "outputs": [],
   "source": [
    "# Get the best random score based on the fitted data\n",
    "best_random_score = random_search.best_score_"
   ]
  },
  {
   "cell_type": "code",
   "execution_count": 98,
   "metadata": {},
   "outputs": [],
   "source": [
    "# Determine the difference between the randomisedSearch score and baseline score\n",
    "random_improvement_score = (best_random_score - baseline_accuracy.mean())*100"
   ]
  },
  {
   "cell_type": "code",
   "execution_count": 99,
   "metadata": {},
   "outputs": [
    {
     "name": "stderr",
     "output_type": "stream",
     "text": [
      "[Parallel(n_jobs=1)]: Using backend SequentialBackend with 1 concurrent workers.\n"
     ]
    },
    {
     "name": "stdout",
     "output_type": "stream",
     "text": [
      "Fitting 10 folds for each of 1920 candidates, totalling 19200 fits\n"
     ]
    },
    {
     "name": "stderr",
     "output_type": "stream",
     "text": [
      "[Parallel(n_jobs=1)]: Done 19200 out of 19200 | elapsed:   28.1s finished\n",
      "C:\\Users\\brandon\\Anaconda2\\lib\\site-packages\\sklearn\\model_selection\\_search.py:841: DeprecationWarning: The default of the `iid` parameter will change from True to False in version 0.22 and will be removed in 0.24. This will change numeric results when test-set sizes are unequal.\n",
      "  DeprecationWarning)\n"
     ]
    }
   ],
   "source": [
    "# Use GridSearchCV to estimate optimal parameters - as an alternative to RandomizedSearchCV to \n",
    "# determine which produces better results.\n",
    "param_grid = {'criterion': ['gini', 'entropy'],\n",
    "              'max_features': ['auto', 'sqrt', 'log2'],\n",
    "              'max_depth': range(1, 41, 5),\n",
    "              'min_samples_split': range(2, 102, 10),\n",
    "              'min_samples_leaf': range(1, 21, 5)}\n",
    "\n",
    "# Instantiate the grid search model\n",
    "grid_search = GridSearchCV(estimator = classifier, param_grid = param_grid, cv = 10, verbose = 1)\n",
    "\n",
    "# Fit the grid search to the data\n",
    "start = time()\n",
    "grid_search.fit(X_train, y_train)\n",
    "total_time_grid = time() - start"
   ]
  },
  {
   "cell_type": "code",
   "execution_count": 100,
   "metadata": {},
   "outputs": [],
   "source": [
    "# Get the best grid score based on the fitted data\n",
    "best_grid_score = grid_search.best_score_"
   ]
  },
  {
   "cell_type": "code",
   "execution_count": 101,
   "metadata": {},
   "outputs": [],
   "source": [
    "# Determine the difference between the GridSearch score and baseline score\n",
    "grid_improvement_score = (best_grid_score - baseline_accuracy.mean())*100"
   ]
  },
  {
   "cell_type": "code",
   "execution_count": 102,
   "metadata": {},
   "outputs": [
    {
     "name": "stdout",
     "output_type": "stream",
     "text": [
      "RandomisedSearchCV \n",
      "Total Time: 0.728s\n",
      "-1.912% more accurate than baseline\n",
      "Best Parameters: \n",
      "{'min_samples_split': 42, 'max_features': 'auto', 'criterion': 'gini', 'max_depth': 6, 'min_samples_leaf': 6}\n",
      "\n",
      "GridSearchCV \n",
      "Total Time: 28.348s\n",
      "7.892% more accurate than baseline\n",
      "Best Parameters: \n",
      "{'max_features': 'log2', 'min_samples_split': 22, 'criterion': 'entropy', 'max_depth': 31, 'min_samples_leaf': 1}\n"
     ]
    }
   ],
   "source": [
    "best_random_param = random_search.best_params_\n",
    "best_grid_param = grid_search.best_params_\n",
    "\n",
    "print \"RandomisedSearchCV \\nTotal Time: {:.3f}s\".format(total_time_random)\n",
    "print \"{:0.3f}% more accurate than baseline\".format(random_improvement_score)\n",
    "print \"Best Parameters: \\n\", best_random_param\n",
    "print\n",
    "print \"GridSearchCV \\nTotal Time: {:.3f}s\".format(total_time_grid)\n",
    "print \"{:0.3f}% more accurate than baseline\".format(grid_improvement_score)\n",
    "print \"Best Parameters: \\n\", best_grid_param"
   ]
  },
  {
   "cell_type": "code",
   "execution_count": 103,
   "metadata": {},
   "outputs": [],
   "source": [
    "# Using Parameters from GridSearch due to better accuracy\n",
    "classifier = DecisionTreeClassifier(**best_grid_param)\n",
    "fit = classifier.fit(X_train, y_train)\n",
    "y_pre = fit.predict(X_test)"
   ]
  },
  {
   "cell_type": "code",
   "execution_count": 104,
   "metadata": {},
   "outputs": [
    {
     "name": "stdout",
     "output_type": "stream",
     "text": [
      "[[17  6]\n",
      " [11 17]]\n",
      "              precision    recall  f1-score   support\n",
      "\n",
      "           1       0.61      0.74      0.67        23\n",
      "           2       0.74      0.61      0.67        28\n",
      "\n",
      "   micro avg       0.67      0.67      0.67        51\n",
      "   macro avg       0.67      0.67      0.67        51\n",
      "weighted avg       0.68      0.67      0.67        51\n",
      "\n"
     ]
    }
   ],
   "source": [
    "print confusion_matrix(y_test, y_pre)\n",
    "print classification_report(y_test, y_pre)"
   ]
  },
  {
   "cell_type": "markdown",
   "metadata": {},
   "source": [
    "## DT - (2/3) 60% for training and 40% for testing;"
   ]
  },
  {
   "cell_type": "code",
   "execution_count": 105,
   "metadata": {},
   "outputs": [],
   "source": [
    "X_train, X_test, y_train, y_test = train_test_split(X, y, test_size=0.40) "
   ]
  },
  {
   "cell_type": "code",
   "execution_count": 106,
   "metadata": {},
   "outputs": [],
   "source": [
    "# Scale features for consistency\n",
    "feature_scaler = StandardScaler()  \n",
    "X_train = feature_scaler.fit_transform(X_train)  \n",
    "X_test = feature_scaler.transform(X_test)  "
   ]
  },
  {
   "cell_type": "code",
   "execution_count": 107,
   "metadata": {},
   "outputs": [],
   "source": [
    "classifier = DecisionTreeClassifier()\n",
    "fit = classifier.fit(X_train, y_train)\n",
    "y_pre = fit.predict(X_test)"
   ]
  },
  {
   "cell_type": "code",
   "execution_count": 108,
   "metadata": {},
   "outputs": [
    {
     "name": "stdout",
     "output_type": "stream",
     "text": [
      "[[13  4]\n",
      " [ 8 16]]\n",
      "              precision    recall  f1-score   support\n",
      "\n",
      "           1       0.62      0.76      0.68        17\n",
      "           2       0.80      0.67      0.73        24\n",
      "\n",
      "   micro avg       0.71      0.71      0.71        41\n",
      "   macro avg       0.71      0.72      0.71        41\n",
      "weighted avg       0.72      0.71      0.71        41\n",
      "\n"
     ]
    }
   ],
   "source": [
    "print confusion_matrix(y_test, y_pre)\n",
    "print classification_report(y_test,y_pre)"
   ]
  },
  {
   "cell_type": "code",
   "execution_count": 109,
   "metadata": {},
   "outputs": [
    {
     "name": "stdout",
     "output_type": "stream",
     "text": [
      "Fitting 10 folds for each of 45 candidates, totalling 450 fits\n"
     ]
    },
    {
     "name": "stderr",
     "output_type": "stream",
     "text": [
      "[Parallel(n_jobs=1)]: Using backend SequentialBackend with 1 concurrent workers.\n",
      "[Parallel(n_jobs=1)]: Done 450 out of 450 | elapsed:    0.6s finished\n",
      "C:\\Users\\brandon\\Anaconda2\\lib\\site-packages\\sklearn\\model_selection\\_search.py:841: DeprecationWarning: The default of the `iid` parameter will change from True to False in version 0.22 and will be removed in 0.24. This will change numeric results when test-set sizes are unequal.\n",
      "  DeprecationWarning)\n",
      "[Parallel(n_jobs=1)]: Using backend SequentialBackend with 1 concurrent workers.\n"
     ]
    },
    {
     "name": "stdout",
     "output_type": "stream",
     "text": [
      "Fitting 10 folds for each of 1920 candidates, totalling 19200 fits\n"
     ]
    },
    {
     "name": "stderr",
     "output_type": "stream",
     "text": [
      "[Parallel(n_jobs=1)]: Done 19200 out of 19200 | elapsed:   27.9s finished\n",
      "C:\\Users\\brandon\\Anaconda2\\lib\\site-packages\\sklearn\\model_selection\\_search.py:841: DeprecationWarning: The default of the `iid` parameter will change from True to False in version 0.22 and will be removed in 0.24. This will change numeric results when test-set sizes are unequal.\n",
      "  DeprecationWarning)\n"
     ]
    }
   ],
   "source": [
    "# Get baseline accuracy reading to compare against\n",
    "baseline_accuracy = cross_val_score(estimator=classifier, X=X_train, y=y_train, cv=10)  \n",
    "\n",
    "# Use GridSearchCV to estimate optimal parameters\n",
    "param_grid = {'criterion': ['gini', 'entropy'],\n",
    "              'max_features': ['auto', 'sqrt', 'log2'],\n",
    "              'max_depth': range(1, 41, 5),\n",
    "              'min_samples_split': range(2, 102, 10),\n",
    "              'min_samples_leaf': range(1, 21, 5)}\n",
    "\n",
    "# Create a parameters for RandomizedSearchCV\n",
    "param_dist = {'criterion': ['gini', 'entropy'],\n",
    "              'max_features': ['auto', 'sqrt', 'log2'],\n",
    "              'max_depth': range(1, 41, 5),\n",
    "              'min_samples_split': range(2, 102, 10),\n",
    "              'min_samples_leaf': range(1, 21, 5)}\n",
    "\n",
    "# Use a RandomizedSearchCV to estimate optimal parameters\n",
    "random_search = RandomizedSearchCV(\n",
    "    estimator=classifier, param_distributions=param_dist, n_iter=45, cv=10, verbose=1)\n",
    "\n",
    "# Instantiate the grid search model\n",
    "grid_search = GridSearchCV(estimator = classifier, param_grid = param_grid, cv = 10, verbose = 1)\n",
    "\n",
    "\n",
    "start = time()\n",
    "# RandomisedSearch - Fitting Data\n",
    "random_search.fit(X_train, y_train)\n",
    "total_time_random = time() - start\n",
    "\n",
    "# GridSearch - Fitting Data\n",
    "grid_search.fit(X_train, y_train)\n",
    "total_time_grid = time() - start"
   ]
  },
  {
   "cell_type": "code",
   "execution_count": 110,
   "metadata": {},
   "outputs": [
    {
     "name": "stdout",
     "output_type": "stream",
     "text": [
      "RandomisedSearchCV \n",
      "Total Time: 0.683s\n",
      "7.845% more accurate than baseline\n",
      "Best Parameters: \n",
      "{'min_samples_split': 2, 'max_features': 'log2', 'criterion': 'gini', 'max_depth': 11, 'min_samples_leaf': 11}\n",
      "\n",
      "GridSearchCV \n",
      "Total Time: 28.732s\n",
      "12.763% more accurate than baseline\n",
      "Best Parameters: \n",
      "{'max_features': 'auto', 'min_samples_split': 42, 'criterion': 'entropy', 'max_depth': 6, 'min_samples_leaf': 1}\n"
     ]
    }
   ],
   "source": [
    "# GridSearch\n",
    "best_grid_score = grid_search.best_score_\n",
    "grid_improvement_score = (best_grid_score - baseline_accuracy.mean())*100\n",
    "best_grid_param = grid_search.best_params_\n",
    "\n",
    "# RandomisedSearch\n",
    "best_random_score = random_search.best_score_\n",
    "random_improvement_score = (best_random_score - baseline_accuracy.mean())*100\n",
    "best_random_param = random_search.best_params_\n",
    "\n",
    "print \"RandomisedSearchCV \\nTotal Time: {:.3f}s\".format(total_time_random)\n",
    "print \"{:0.3f}% more accurate than baseline\".format(random_improvement_score)\n",
    "print \"Best Parameters: \\n\", best_random_param\n",
    "print\n",
    "print \"GridSearchCV \\nTotal Time: {:.3f}s\".format(total_time_grid)\n",
    "print \"{:0.3f}% more accurate than baseline\".format(grid_improvement_score)\n",
    "print \"Best Parameters: \\n\", best_grid_param"
   ]
  },
  {
   "cell_type": "code",
   "execution_count": 111,
   "metadata": {},
   "outputs": [],
   "source": [
    "# Using Parameters from GridSearch due to better accuracy\n",
    "classifier = DecisionTreeClassifier(**best_grid_param)\n",
    "fit = classifier.fit(X_train, y_train)\n",
    "y_pre = fit.predict(X_test)"
   ]
  },
  {
   "cell_type": "code",
   "execution_count": 112,
   "metadata": {},
   "outputs": [
    {
     "name": "stdout",
     "output_type": "stream",
     "text": [
      "[[13  4]\n",
      " [ 6 18]]\n",
      "              precision    recall  f1-score   support\n",
      "\n",
      "           1       0.68      0.76      0.72        17\n",
      "           2       0.82      0.75      0.78        24\n",
      "\n",
      "   micro avg       0.76      0.76      0.76        41\n",
      "   macro avg       0.75      0.76      0.75        41\n",
      "weighted avg       0.76      0.76      0.76        41\n",
      "\n"
     ]
    }
   ],
   "source": [
    "print confusion_matrix(y_test, y_pre)\n",
    "print classification_report(y_test, y_pre)"
   ]
  },
  {
   "cell_type": "markdown",
   "metadata": {},
   "source": [
    "## DT - (3/3) 80% for training and 20% for testing;"
   ]
  },
  {
   "cell_type": "code",
   "execution_count": 113,
   "metadata": {},
   "outputs": [],
   "source": [
    "X_train, X_test, y_train, y_test = train_test_split(X, y, test_size=0.20) "
   ]
  },
  {
   "cell_type": "code",
   "execution_count": 114,
   "metadata": {},
   "outputs": [],
   "source": [
    "# Scale features for consistency\n",
    "feature_scaler = StandardScaler()  \n",
    "X_train = feature_scaler.fit_transform(X_train)  \n",
    "X_test = feature_scaler.transform(X_test)  "
   ]
  },
  {
   "cell_type": "code",
   "execution_count": 115,
   "metadata": {},
   "outputs": [],
   "source": [
    "classifier = DecisionTreeClassifier()\n",
    "fit = classifier.fit(X_train, y_train)\n",
    "y_pre = fit.predict(X_test)"
   ]
  },
  {
   "cell_type": "code",
   "execution_count": 116,
   "metadata": {},
   "outputs": [
    {
     "name": "stdout",
     "output_type": "stream",
     "text": [
      "[[5 5]\n",
      " [2 9]]\n",
      "              precision    recall  f1-score   support\n",
      "\n",
      "           1       0.71      0.50      0.59        10\n",
      "           2       0.64      0.82      0.72        11\n",
      "\n",
      "   micro avg       0.67      0.67      0.67        21\n",
      "   macro avg       0.68      0.66      0.65        21\n",
      "weighted avg       0.68      0.67      0.66        21\n",
      "\n"
     ]
    }
   ],
   "source": [
    "print confusion_matrix(y_test, y_pre)\n",
    "print classification_report(y_test,y_pre)"
   ]
  },
  {
   "cell_type": "code",
   "execution_count": 117,
   "metadata": {},
   "outputs": [
    {
     "name": "stderr",
     "output_type": "stream",
     "text": [
      "[Parallel(n_jobs=1)]: Using backend SequentialBackend with 1 concurrent workers.\n"
     ]
    },
    {
     "name": "stdout",
     "output_type": "stream",
     "text": [
      "Fitting 10 folds for each of 45 candidates, totalling 450 fits\n"
     ]
    },
    {
     "name": "stderr",
     "output_type": "stream",
     "text": [
      "[Parallel(n_jobs=1)]: Done 450 out of 450 | elapsed:    0.6s finished\n",
      "C:\\Users\\brandon\\Anaconda2\\lib\\site-packages\\sklearn\\model_selection\\_search.py:841: DeprecationWarning: The default of the `iid` parameter will change from True to False in version 0.22 and will be removed in 0.24. This will change numeric results when test-set sizes are unequal.\n",
      "  DeprecationWarning)\n",
      "[Parallel(n_jobs=1)]: Using backend SequentialBackend with 1 concurrent workers.\n"
     ]
    },
    {
     "name": "stdout",
     "output_type": "stream",
     "text": [
      "Fitting 10 folds for each of 1920 candidates, totalling 19200 fits\n"
     ]
    },
    {
     "name": "stderr",
     "output_type": "stream",
     "text": [
      "[Parallel(n_jobs=1)]: Done 19200 out of 19200 | elapsed:   27.5s finished\n",
      "C:\\Users\\brandon\\Anaconda2\\lib\\site-packages\\sklearn\\model_selection\\_search.py:841: DeprecationWarning: The default of the `iid` parameter will change from True to False in version 0.22 and will be removed in 0.24. This will change numeric results when test-set sizes are unequal.\n",
      "  DeprecationWarning)\n"
     ]
    }
   ],
   "source": [
    "# Get baseline accuracy reading to compare against\n",
    "baseline_accuracy = cross_val_score(estimator=classifier, X=X_train, y=y_train, cv=10)  \n",
    "\n",
    "# Use GridSearchCV to estimate optimal parameters\n",
    "param_grid = {'criterion': ['gini', 'entropy'],\n",
    "              'max_features': ['auto', 'sqrt', 'log2'],\n",
    "              'max_depth': range(1, 41, 5),\n",
    "              'min_samples_split': range(2, 102, 10),\n",
    "              'min_samples_leaf': range(1, 21, 5)}\n",
    "\n",
    "# Create a parameters for RandomizedSearchCV\n",
    "param_dist = {'criterion': ['gini', 'entropy'],\n",
    "              'max_features': ['auto', 'sqrt', 'log2'],\n",
    "              'max_depth': range(1, 41, 5),\n",
    "              'min_samples_split': range(2, 102, 10),\n",
    "              'min_samples_leaf': range(1, 21, 5)}\n",
    "\n",
    "# Use a RandomizedSearchCV to estimate optimal parameters\n",
    "random_search = RandomizedSearchCV(\n",
    "    estimator=classifier, param_distributions=param_dist, n_iter=45, cv=10, verbose=1)\n",
    "\n",
    "# Instantiate the grid search model\n",
    "grid_search = GridSearchCV(estimator = classifier, param_grid = param_grid, cv = 10, verbose = 1)\n",
    "\n",
    "\n",
    "start = time()\n",
    "# RandomisedSearch - Fitting Data\n",
    "random_search.fit(X_train, y_train)\n",
    "total_time_random = time() - start\n",
    "\n",
    "# GridSearch - Fitting Data\n",
    "grid_search.fit(X_train, y_train)\n",
    "total_time_grid = time() - start"
   ]
  },
  {
   "cell_type": "code",
   "execution_count": 118,
   "metadata": {},
   "outputs": [
    {
     "name": "stdout",
     "output_type": "stream",
     "text": [
      "RandomisedSearchCV \n",
      "Total Time: 0.670s\n",
      "11.261% more accurate than baseline\n",
      "Best Parameters: \n",
      "{'min_samples_split': 2, 'max_features': 'log2', 'criterion': 'gini', 'max_depth': 6, 'min_samples_leaf': 1}\n",
      "\n",
      "GridSearchCV \n",
      "Total Time: 28.415s\n",
      "17.434% more accurate than baseline\n",
      "Best Parameters: \n",
      "{'max_features': 'sqrt', 'min_samples_split': 22, 'criterion': 'entropy', 'max_depth': 31, 'min_samples_leaf': 6}\n"
     ]
    }
   ],
   "source": [
    "# GridSearch\n",
    "best_grid_score = grid_search.best_score_\n",
    "grid_improvement_score = (best_grid_score - baseline_accuracy.mean())*100\n",
    "best_grid_param = grid_search.best_params_\n",
    "\n",
    "# RandomisedSearch\n",
    "best_random_score = random_search.best_score_\n",
    "random_improvement_score = (best_random_score - baseline_accuracy.mean())*100\n",
    "best_random_param = random_search.best_params_\n",
    "\n",
    "print \"RandomisedSearchCV \\nTotal Time: {:.3f}s\".format(total_time_random)\n",
    "print \"{:0.3f}% more accurate than baseline\".format(random_improvement_score)\n",
    "print \"Best Parameters: \\n\", best_random_param\n",
    "print\n",
    "print \"GridSearchCV \\nTotal Time: {:.3f}s\".format(total_time_grid)\n",
    "print \"{:0.3f}% more accurate than baseline\".format(grid_improvement_score)\n",
    "print \"Best Parameters: \\n\", best_grid_param"
   ]
  },
  {
   "cell_type": "code",
   "execution_count": 119,
   "metadata": {},
   "outputs": [],
   "source": [
    "# Using Parameters from GridSearch due to better accuracy\n",
    "classifier = DecisionTreeClassifier(**best_grid_param)\n",
    "fit = classifier.fit(X_train, y_train)\n",
    "y_pre = fit.predict(X_test)"
   ]
  },
  {
   "cell_type": "code",
   "execution_count": 120,
   "metadata": {},
   "outputs": [
    {
     "name": "stdout",
     "output_type": "stream",
     "text": [
      "[[6 4]\n",
      " [2 9]]\n",
      "              precision    recall  f1-score   support\n",
      "\n",
      "           1       0.75      0.60      0.67        10\n",
      "           2       0.69      0.82      0.75        11\n",
      "\n",
      "   micro avg       0.71      0.71      0.71        21\n",
      "   macro avg       0.72      0.71      0.71        21\n",
      "weighted avg       0.72      0.71      0.71        21\n",
      "\n"
     ]
    }
   ],
   "source": [
    "print confusion_matrix(y_test, y_pre)\n",
    "print classification_report(y_test, y_pre)"
   ]
  }
 ],
 "metadata": {
  "kernelspec": {
   "display_name": "Python 2",
   "language": "python",
   "name": "python2"
  },
  "language_info": {
   "codemirror_mode": {
    "name": "ipython",
    "version": 2
   },
   "file_extension": ".py",
   "mimetype": "text/x-python",
   "name": "python",
   "nbconvert_exporter": "python",
   "pygments_lexer": "ipython2",
   "version": "2.7.15"
  }
 },
 "nbformat": 4,
 "nbformat_minor": 2
}
